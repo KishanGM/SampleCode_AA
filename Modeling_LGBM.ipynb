{
 "cells": [
  {
   "cell_type": "markdown",
   "metadata": {},
   "source": [
    "## <a id='0'>Contents </a>"
   ]
  },
  {
   "cell_type": "markdown",
   "metadata": {},
   "source": [
    "- <a href='#0'>Contents</a>\n",
    "- <a href='#1'>1.Import Packages</a>\n",
    "- <a href='#2'>2.Set Root Directory </a>\n",
    "- <a href='#3'>3.Read Data file(s)</a>\n",
    "- <a href='#4'>4.Data OverView</a>\n",
    "    - <a href='#4.1'>4.1 Adding Additional Columns </a>\n",
    "- <a href='#5'>5.Creating DFTrain, DFVal and DFTest </a>\n",
    "- <a href='#6'>6. Column Selectors </a>\n",
    "    - <a href='#6-1'>6.1 Custom Transformers for ShirtSizing</a>\n",
    "    - <a href='#6-2'>6.2 Pipeline for ShirtSizing </a>\n",
    "    - <a href='#6-3'>6.3 Custom Transformers for MeanEncoding </a>\n",
    "    - <a href='#6-4'>6.4 Pipelines for MeanEncoding </a>\n",
    "- <a href='#7'>7. ML Model Evaluation And Building ML Model</a>\n",
    "    - <a href='#7.1'>7.1 ML Model Evaluation  </a>\n",
    "    - <a href='#7.2'>7.2 ML Model </a>\n",
    "- <a href='#8'>8. Predictions </a>"
   ]
  },
  {
   "cell_type": "markdown",
   "metadata": {},
   "source": [
    "# <a id='1'>1. Import the required packages </a>\n",
    "\n",
    "#### <a href='#0'>Go To TOp</a>"
   ]
  },
  {
   "cell_type": "code",
   "execution_count": 73,
   "metadata": {},
   "outputs": [],
   "source": [
    "import os\n",
    "import shap\n",
    "import numpy as np\n",
    "import pandas as pd\n",
    "import seaborn as sns\n",
    "import lightgbm as lgb\n",
    "import pandas_profiling\n",
    "import matplotlib.pyplot as plt\n",
    "import xgboost as xgb\n",
    "import sklearn as sk\n",
    "from sklearn.multioutput import MultiOutputClassifier\n",
    "from sklearn.ensemble import GradientBoostingClassifier\n",
    "from sklearn.tree import DecisionTreeClassifier\n",
    "from sklearn.neighbors import KNeighborsClassifier\n",
    "from sklearn.naive_bayes import GaussianNB\n",
    "from sklearn.ensemble import RandomForestClassifier\n",
    "from sklearn.linear_model import LogisticRegression\n",
    "from datetime import datetime, date\n",
    "from sklearn.pipeline import Pipeline, FeatureUnion\n",
    "from sklearn.base import BaseEstimator, TransformerMixin\n",
    "from sklearn.metrics import accuracy_score, log_loss, roc_curve,f1_score,confusion_matrix\n",
    "from sklearn.preprocessing import LabelEncoder,StandardScaler,LabelBinarizer, OneHotEncoder\n",
    "from sklearn.model_selection import KFold, cross_val_score, train_test_split,cross_validate\n",
    "\n",
    "%matplotlib inline\n",
    "pd.options.display.float_format = '{:.2f}'.format\n",
    "pd.set_option('display.max_columns', None)\n",
    "import warnings\n",
    "warnings.filterwarnings('ignore')"
   ]
  },
  {
   "cell_type": "markdown",
   "metadata": {},
   "source": [
    "# <a id='2'> 2. Setting up Folder Paths </a>\n",
    "#### <a href='#0'>Go To TOp</a>"
   ]
  },
  {
   "cell_type": "code",
   "execution_count": 2,
   "metadata": {},
   "outputs": [],
   "source": [
    "# This variable should be the only one that requires adjustment on each developer's machine\n",
    "\n",
    "PROJECT_ROOT_FOLDER = 'C:/Users/Kishan/Desktop/SupplyChain-SAP/'\n",
    "\n",
    "# ----------------------------------------------------------------\n",
    "# These variables shouldn't have to be updated on each dev machine\n",
    "RAW_DATA_FOLDER       = PROJECT_ROOT_FOLDER + 'data/rawdata/'\n",
    "PROCESSED_DATA_FOLDER = PROJECT_ROOT_FOLDER + 'data/processeddata/'\n",
    "OUTPUT_FOLDER         = PROJECT_ROOT_FOLDER + 'output/'\n",
    "\n",
    "#SPRINT_DATA_FOLDER    = PROCESSED_DATA_FOLDER + 'sprint1/'\n",
    "#SPRINT_OUTPUT_FOLDER  = OUTPUT_FOLDER + 'sprint1/'"
   ]
  },
  {
   "cell_type": "markdown",
   "metadata": {},
   "source": [
    "####  Ensure that the paths exist in the local environment"
   ]
  },
  {
   "cell_type": "code",
   "execution_count": 3,
   "metadata": {},
   "outputs": [],
   "source": [
    "# quick check-point to make sure all the folders exist locally\n",
    "assert \\\n",
    "os.path.exists(PROJECT_ROOT_FOLDER)    and \\\n",
    "os.path.exists(RAW_DATA_FOLDER)        and \\\n",
    "os.path.exists(PROCESSED_DATA_FOLDER) #and \\\n",
    "#os.path.exists(SPRINT_DATA_FOLDER)    # and \\\n",
    "#os.path.exists(SPRINT_OUTPUT_FOLDER)"
   ]
  },
  {
   "cell_type": "markdown",
   "metadata": {},
   "source": [
    "# <a id='3'> 3. Reading Data </a>\n",
    "#### <a href='#0'>Go To TOp</a>"
   ]
  },
  {
   "cell_type": "code",
   "execution_count": 4,
   "metadata": {},
   "outputs": [
    {
     "data": {
      "text/plain": [
       "'C:/Users/Kishan/Desktop/SupplyChain-SAP/data/processeddata/'"
      ]
     },
     "execution_count": 4,
     "metadata": {},
     "output_type": "execute_result"
    }
   ],
   "source": [
    "PROCESSED_DATA_FOLDER"
   ]
  },
  {
   "cell_type": "code",
   "execution_count": 5,
   "metadata": {},
   "outputs": [],
   "source": [
    "#Reading Supply Chain file\n",
    "\n",
    "df = pd.read_csv(PROCESSED_DATA_FOLDER + 'Clean_BaseDataset_order_Gran.csv'\n",
    "                 #,sep='|'\n",
    "                 ,encoding = \"latin-1\"\n",
    "                # ,error_bad_lines=False\n",
    "                 ,parse_dates=True\n",
    "                )"
   ]
  },
  {
   "cell_type": "code",
   "execution_count": 6,
   "metadata": {},
   "outputs": [
    {
     "data": {
      "text/plain": [
       "(65752, 56)"
      ]
     },
     "execution_count": 6,
     "metadata": {},
     "output_type": "execute_result"
    }
   ],
   "source": [
    "df.shape"
   ]
  },
  {
   "cell_type": "code",
   "execution_count": 7,
   "metadata": {},
   "outputs": [
    {
     "data": {
      "text/html": [
       "<div>\n",
       "<style scoped>\n",
       "    .dataframe tbody tr th:only-of-type {\n",
       "        vertical-align: middle;\n",
       "    }\n",
       "\n",
       "    .dataframe tbody tr th {\n",
       "        vertical-align: top;\n",
       "    }\n",
       "\n",
       "    .dataframe thead th {\n",
       "        text-align: right;\n",
       "    }\n",
       "</style>\n",
       "<table border=\"1\" class=\"dataframe\">\n",
       "  <thead>\n",
       "    <tr style=\"text-align: right;\">\n",
       "      <th></th>\n",
       "      <th>customer_city</th>\n",
       "      <th>customer_country</th>\n",
       "      <th>customer_email</th>\n",
       "      <th>customer_firstname</th>\n",
       "      <th>customer_id</th>\n",
       "      <th>customer_lastname</th>\n",
       "      <th>customer_password</th>\n",
       "      <th>customer_segment</th>\n",
       "      <th>customer_state</th>\n",
       "      <th>customer_street</th>\n",
       "      <th>customer_zip</th>\n",
       "      <th>type</th>\n",
       "      <th>shipping_days_actual</th>\n",
       "      <th>shipping_days_scheduled</th>\n",
       "      <th>delivery_status</th>\n",
       "      <th>late_delivery_risk</th>\n",
       "      <th>market</th>\n",
       "      <th>order_city</th>\n",
       "      <th>order_country</th>\n",
       "      <th>order_cust_id</th>\n",
       "      <th>order_date</th>\n",
       "      <th>order_id</th>\n",
       "      <th>order_region</th>\n",
       "      <th>order_state</th>\n",
       "      <th>order_zip</th>\n",
       "      <th>shipping_date</th>\n",
       "      <th>shipping_mode</th>\n",
       "      <th>num_days_late</th>\n",
       "      <th>order_status</th>\n",
       "      <th>store_city</th>\n",
       "      <th>store_state</th>\n",
       "      <th>gapbetween_orderandship_date</th>\n",
       "      <th>samecountry_source_dest</th>\n",
       "      <th>weekend_duringshipping</th>\n",
       "      <th>weekend_duringshipping_Scheduleddays</th>\n",
       "      <th>shipping_on_weekends</th>\n",
       "      <th>ordered_on_weekends</th>\n",
       "      <th>shipping_dt_weekday</th>\n",
       "      <th>order_dt_weekday</th>\n",
       "      <th>shipping_dt_weekday_name</th>\n",
       "      <th>order_dt_weekday_name</th>\n",
       "      <th>shipping_dt_year_month</th>\n",
       "      <th>order_dt_year_month</th>\n",
       "      <th>shipping_dt_month</th>\n",
       "      <th>order_dt_month</th>\n",
       "      <th>shipping_dt_year</th>\n",
       "      <th>order_dt_year</th>\n",
       "      <th>store_country</th>\n",
       "      <th>sc_oc</th>\n",
       "      <th>latitude</th>\n",
       "      <th>longitude</th>\n",
       "      <th>order_item_count</th>\n",
       "      <th>item_qty_sum</th>\n",
       "      <th>order_item_productprice_sum</th>\n",
       "      <th>discount_sum</th>\n",
       "      <th>order_item_productprice_after_discount_sum</th>\n",
       "    </tr>\n",
       "  </thead>\n",
       "  <tbody>\n",
       "    <tr>\n",
       "      <td>0</td>\n",
       "      <td>Caguas</td>\n",
       "      <td>Puerto Rico</td>\n",
       "      <td>XXXXXXXXX</td>\n",
       "      <td>Cally</td>\n",
       "      <td>20755</td>\n",
       "      <td>Holloway</td>\n",
       "      <td>XXXXXXXXX</td>\n",
       "      <td>Consumer</td>\n",
       "      <td>PR</td>\n",
       "      <td>5365 Noble Nectar Island</td>\n",
       "      <td>725.00</td>\n",
       "      <td>DEBIT</td>\n",
       "      <td>3</td>\n",
       "      <td>4</td>\n",
       "      <td>Advance shipping</td>\n",
       "      <td>0</td>\n",
       "      <td>Pacific Asia</td>\n",
       "      <td>Bekasi</td>\n",
       "      <td>Indonesia</td>\n",
       "      <td>20755</td>\n",
       "      <td>2018-01-31 22:56:00</td>\n",
       "      <td>77202</td>\n",
       "      <td>Southeast Asia</td>\n",
       "      <td>Java Occidental</td>\n",
       "      <td>nan</td>\n",
       "      <td>2018-02-03 22:56:00</td>\n",
       "      <td>Standard Class</td>\n",
       "      <td>-1</td>\n",
       "      <td>COMPLETE</td>\n",
       "      <td>Caguas</td>\n",
       "      <td>Puerto Rico</td>\n",
       "      <td>3.00</td>\n",
       "      <td>Different Countries</td>\n",
       "      <td>Yes Weekend involved</td>\n",
       "      <td>Yes Weekend involved</td>\n",
       "      <td>ShippedonWeekend</td>\n",
       "      <td>OrderedonWeekday</td>\n",
       "      <td>5</td>\n",
       "      <td>2</td>\n",
       "      <td>Saturday</td>\n",
       "      <td>Wednesday</td>\n",
       "      <td>2018-02</td>\n",
       "      <td>2018-01</td>\n",
       "      <td>2</td>\n",
       "      <td>1</td>\n",
       "      <td>2018</td>\n",
       "      <td>2018</td>\n",
       "      <td>Puerto Rico</td>\n",
       "      <td>Caguas-Bekasi</td>\n",
       "      <td>18.25</td>\n",
       "      <td>-66.04</td>\n",
       "      <td>1</td>\n",
       "      <td>1</td>\n",
       "      <td>327.75</td>\n",
       "      <td>13.11</td>\n",
       "      <td>314.64</td>\n",
       "    </tr>\n",
       "    <tr>\n",
       "      <td>1</td>\n",
       "      <td>Caguas</td>\n",
       "      <td>Puerto Rico</td>\n",
       "      <td>XXXXXXXXX</td>\n",
       "      <td>Irene</td>\n",
       "      <td>19492</td>\n",
       "      <td>Luna</td>\n",
       "      <td>XXXXXXXXX</td>\n",
       "      <td>Consumer</td>\n",
       "      <td>PR</td>\n",
       "      <td>2679 Rustic Loop</td>\n",
       "      <td>725.00</td>\n",
       "      <td>TRANSFER</td>\n",
       "      <td>5</td>\n",
       "      <td>4</td>\n",
       "      <td>Late delivery</td>\n",
       "      <td>1</td>\n",
       "      <td>Pacific Asia</td>\n",
       "      <td>Bikaner</td>\n",
       "      <td>India</td>\n",
       "      <td>19492</td>\n",
       "      <td>2018-01-13 12:27:00</td>\n",
       "      <td>75939</td>\n",
       "      <td>South Asia</td>\n",
       "      <td>RajastÃÂÃÂÃÂÃÂ¡n</td>\n",
       "      <td>nan</td>\n",
       "      <td>2018-01-18 12:27:00</td>\n",
       "      <td>Standard Class</td>\n",
       "      <td>1</td>\n",
       "      <td>PENDING</td>\n",
       "      <td>Caguas</td>\n",
       "      <td>Puerto Rico</td>\n",
       "      <td>5.00</td>\n",
       "      <td>Different Countries</td>\n",
       "      <td>Yes Weekend involved</td>\n",
       "      <td>Yes Weekend involved</td>\n",
       "      <td>ShippededonWeekday</td>\n",
       "      <td>OrderedonWeekend</td>\n",
       "      <td>3</td>\n",
       "      <td>5</td>\n",
       "      <td>Thursday</td>\n",
       "      <td>Saturday</td>\n",
       "      <td>2018-01</td>\n",
       "      <td>2018-01</td>\n",
       "      <td>1</td>\n",
       "      <td>1</td>\n",
       "      <td>2018</td>\n",
       "      <td>2018</td>\n",
       "      <td>Puerto Rico</td>\n",
       "      <td>Caguas-Bikaner</td>\n",
       "      <td>18.28</td>\n",
       "      <td>-66.04</td>\n",
       "      <td>1</td>\n",
       "      <td>1</td>\n",
       "      <td>327.75</td>\n",
       "      <td>16.39</td>\n",
       "      <td>311.36</td>\n",
       "    </tr>\n",
       "    <tr>\n",
       "      <td>2</td>\n",
       "      <td>San Jose</td>\n",
       "      <td>EE. UU.</td>\n",
       "      <td>XXXXXXXXX</td>\n",
       "      <td>Gillian</td>\n",
       "      <td>19491</td>\n",
       "      <td>Maldonado</td>\n",
       "      <td>XXXXXXXXX</td>\n",
       "      <td>Consumer</td>\n",
       "      <td>CA</td>\n",
       "      <td>8510 Round Bear Gate</td>\n",
       "      <td>95125.00</td>\n",
       "      <td>CASH</td>\n",
       "      <td>4</td>\n",
       "      <td>4</td>\n",
       "      <td>Shipping on time</td>\n",
       "      <td>0</td>\n",
       "      <td>Pacific Asia</td>\n",
       "      <td>Bikaner</td>\n",
       "      <td>India</td>\n",
       "      <td>19491</td>\n",
       "      <td>2018-01-13 12:06:00</td>\n",
       "      <td>75938</td>\n",
       "      <td>South Asia</td>\n",
       "      <td>RajastÃÂÃÂÃÂÃÂ¡n</td>\n",
       "      <td>nan</td>\n",
       "      <td>2018-01-17 12:06:00</td>\n",
       "      <td>Standard Class</td>\n",
       "      <td>0</td>\n",
       "      <td>CLOSED</td>\n",
       "      <td>San Jose</td>\n",
       "      <td>California</td>\n",
       "      <td>4.00</td>\n",
       "      <td>Different Countries</td>\n",
       "      <td>Yes Weekend involved</td>\n",
       "      <td>Yes Weekend involved</td>\n",
       "      <td>ShippededonWeekday</td>\n",
       "      <td>OrderedonWeekend</td>\n",
       "      <td>2</td>\n",
       "      <td>5</td>\n",
       "      <td>Wednesday</td>\n",
       "      <td>Saturday</td>\n",
       "      <td>2018-01</td>\n",
       "      <td>2018-01</td>\n",
       "      <td>1</td>\n",
       "      <td>1</td>\n",
       "      <td>2018</td>\n",
       "      <td>2018</td>\n",
       "      <td>United States</td>\n",
       "      <td>San Jose-Bikaner</td>\n",
       "      <td>37.29</td>\n",
       "      <td>-121.88</td>\n",
       "      <td>1</td>\n",
       "      <td>1</td>\n",
       "      <td>327.75</td>\n",
       "      <td>18.03</td>\n",
       "      <td>309.72</td>\n",
       "    </tr>\n",
       "    <tr>\n",
       "      <td>3</td>\n",
       "      <td>Los Angeles</td>\n",
       "      <td>EE. UU.</td>\n",
       "      <td>XXXXXXXXX</td>\n",
       "      <td>Tana</td>\n",
       "      <td>19490</td>\n",
       "      <td>Tate</td>\n",
       "      <td>XXXXXXXXX</td>\n",
       "      <td>Home Office</td>\n",
       "      <td>CA</td>\n",
       "      <td>3200 Amber Bend</td>\n",
       "      <td>90027.00</td>\n",
       "      <td>DEBIT</td>\n",
       "      <td>3</td>\n",
       "      <td>4</td>\n",
       "      <td>Advance shipping</td>\n",
       "      <td>0</td>\n",
       "      <td>Pacific Asia</td>\n",
       "      <td>Townsville</td>\n",
       "      <td>Australia</td>\n",
       "      <td>19490</td>\n",
       "      <td>2018-01-13 11:45:00</td>\n",
       "      <td>75937</td>\n",
       "      <td>Oceania</td>\n",
       "      <td>Queensland</td>\n",
       "      <td>nan</td>\n",
       "      <td>2018-01-16 11:45:00</td>\n",
       "      <td>Standard Class</td>\n",
       "      <td>-1</td>\n",
       "      <td>COMPLETE</td>\n",
       "      <td>Los Angeles</td>\n",
       "      <td>California</td>\n",
       "      <td>3.00</td>\n",
       "      <td>Different Countries</td>\n",
       "      <td>No weekend involved</td>\n",
       "      <td>No weekend involved</td>\n",
       "      <td>ShippededonWeekday</td>\n",
       "      <td>OrderedonWeekend</td>\n",
       "      <td>1</td>\n",
       "      <td>5</td>\n",
       "      <td>Tuesday</td>\n",
       "      <td>Saturday</td>\n",
       "      <td>2018-01</td>\n",
       "      <td>2018-01</td>\n",
       "      <td>1</td>\n",
       "      <td>1</td>\n",
       "      <td>2018</td>\n",
       "      <td>2018</td>\n",
       "      <td>United States</td>\n",
       "      <td>Los Angeles-Townsville</td>\n",
       "      <td>34.13</td>\n",
       "      <td>-118.29</td>\n",
       "      <td>1</td>\n",
       "      <td>1</td>\n",
       "      <td>327.75</td>\n",
       "      <td>22.94</td>\n",
       "      <td>304.81</td>\n",
       "    </tr>\n",
       "    <tr>\n",
       "      <td>4</td>\n",
       "      <td>Caguas</td>\n",
       "      <td>Puerto Rico</td>\n",
       "      <td>XXXXXXXXX</td>\n",
       "      <td>Orli</td>\n",
       "      <td>19489</td>\n",
       "      <td>Hendricks</td>\n",
       "      <td>XXXXXXXXX</td>\n",
       "      <td>Corporate</td>\n",
       "      <td>PR</td>\n",
       "      <td>8671 Iron Anchor Corners</td>\n",
       "      <td>725.00</td>\n",
       "      <td>PAYMENT</td>\n",
       "      <td>2</td>\n",
       "      <td>4</td>\n",
       "      <td>Advance shipping</td>\n",
       "      <td>0</td>\n",
       "      <td>Pacific Asia</td>\n",
       "      <td>Townsville</td>\n",
       "      <td>Australia</td>\n",
       "      <td>19489</td>\n",
       "      <td>2018-01-13 11:24:00</td>\n",
       "      <td>75936</td>\n",
       "      <td>Oceania</td>\n",
       "      <td>Queensland</td>\n",
       "      <td>nan</td>\n",
       "      <td>2018-01-15 11:24:00</td>\n",
       "      <td>Standard Class</td>\n",
       "      <td>-2</td>\n",
       "      <td>PENDING_PAYMENT</td>\n",
       "      <td>Caguas</td>\n",
       "      <td>Puerto Rico</td>\n",
       "      <td>2.00</td>\n",
       "      <td>Different Countries</td>\n",
       "      <td>No weekend involved</td>\n",
       "      <td>No weekend involved</td>\n",
       "      <td>ShippededonWeekday</td>\n",
       "      <td>OrderedonWeekend</td>\n",
       "      <td>0</td>\n",
       "      <td>5</td>\n",
       "      <td>Monday</td>\n",
       "      <td>Saturday</td>\n",
       "      <td>2018-01</td>\n",
       "      <td>2018-01</td>\n",
       "      <td>1</td>\n",
       "      <td>1</td>\n",
       "      <td>2018</td>\n",
       "      <td>2018</td>\n",
       "      <td>Puerto Rico</td>\n",
       "      <td>Caguas-Townsville</td>\n",
       "      <td>18.25</td>\n",
       "      <td>-66.04</td>\n",
       "      <td>1</td>\n",
       "      <td>1</td>\n",
       "      <td>327.75</td>\n",
       "      <td>29.50</td>\n",
       "      <td>298.25</td>\n",
       "    </tr>\n",
       "  </tbody>\n",
       "</table>\n",
       "</div>"
      ],
      "text/plain": [
       "  customer_city customer_country customer_email customer_firstname  \\\n",
       "0        Caguas      Puerto Rico      XXXXXXXXX              Cally   \n",
       "1        Caguas      Puerto Rico      XXXXXXXXX              Irene   \n",
       "2      San Jose          EE. UU.      XXXXXXXXX            Gillian   \n",
       "3   Los Angeles          EE. UU.      XXXXXXXXX               Tana   \n",
       "4        Caguas      Puerto Rico      XXXXXXXXX               Orli   \n",
       "\n",
       "   customer_id customer_lastname customer_password customer_segment  \\\n",
       "0        20755          Holloway         XXXXXXXXX         Consumer   \n",
       "1        19492              Luna         XXXXXXXXX         Consumer   \n",
       "2        19491         Maldonado         XXXXXXXXX         Consumer   \n",
       "3        19490              Tate         XXXXXXXXX      Home Office   \n",
       "4        19489         Hendricks         XXXXXXXXX        Corporate   \n",
       "\n",
       "  customer_state           customer_street  customer_zip      type  \\\n",
       "0             PR  5365 Noble Nectar Island        725.00     DEBIT   \n",
       "1             PR          2679 Rustic Loop        725.00  TRANSFER   \n",
       "2             CA      8510 Round Bear Gate      95125.00      CASH   \n",
       "3             CA           3200 Amber Bend      90027.00     DEBIT   \n",
       "4             PR  8671 Iron Anchor Corners        725.00   PAYMENT   \n",
       "\n",
       "   shipping_days_actual  shipping_days_scheduled   delivery_status  \\\n",
       "0                     3                        4  Advance shipping   \n",
       "1                     5                        4     Late delivery   \n",
       "2                     4                        4  Shipping on time   \n",
       "3                     3                        4  Advance shipping   \n",
       "4                     2                        4  Advance shipping   \n",
       "\n",
       "   late_delivery_risk        market  order_city order_country  order_cust_id  \\\n",
       "0                   0  Pacific Asia      Bekasi     Indonesia          20755   \n",
       "1                   1  Pacific Asia     Bikaner         India          19492   \n",
       "2                   0  Pacific Asia     Bikaner         India          19491   \n",
       "3                   0  Pacific Asia  Townsville     Australia          19490   \n",
       "4                   0  Pacific Asia  Townsville     Australia          19489   \n",
       "\n",
       "            order_date  order_id    order_region              order_state  \\\n",
       "0  2018-01-31 22:56:00     77202  Southeast Asia          Java Occidental   \n",
       "1  2018-01-13 12:27:00     75939      South Asia  RajastÃÂÃÂÃÂÃÂ¡n   \n",
       "2  2018-01-13 12:06:00     75938      South Asia  RajastÃÂÃÂÃÂÃÂ¡n   \n",
       "3  2018-01-13 11:45:00     75937         Oceania               Queensland   \n",
       "4  2018-01-13 11:24:00     75936         Oceania               Queensland   \n",
       "\n",
       "   order_zip        shipping_date   shipping_mode  num_days_late  \\\n",
       "0        nan  2018-02-03 22:56:00  Standard Class             -1   \n",
       "1        nan  2018-01-18 12:27:00  Standard Class              1   \n",
       "2        nan  2018-01-17 12:06:00  Standard Class              0   \n",
       "3        nan  2018-01-16 11:45:00  Standard Class             -1   \n",
       "4        nan  2018-01-15 11:24:00  Standard Class             -2   \n",
       "\n",
       "      order_status   store_city  store_state  gapbetween_orderandship_date  \\\n",
       "0         COMPLETE       Caguas  Puerto Rico                          3.00   \n",
       "1          PENDING       Caguas  Puerto Rico                          5.00   \n",
       "2           CLOSED     San Jose   California                          4.00   \n",
       "3         COMPLETE  Los Angeles   California                          3.00   \n",
       "4  PENDING_PAYMENT       Caguas  Puerto Rico                          2.00   \n",
       "\n",
       "  samecountry_source_dest weekend_duringshipping  \\\n",
       "0     Different Countries   Yes Weekend involved   \n",
       "1     Different Countries   Yes Weekend involved   \n",
       "2     Different Countries   Yes Weekend involved   \n",
       "3     Different Countries    No weekend involved   \n",
       "4     Different Countries    No weekend involved   \n",
       "\n",
       "  weekend_duringshipping_Scheduleddays shipping_on_weekends  \\\n",
       "0                 Yes Weekend involved     ShippedonWeekend   \n",
       "1                 Yes Weekend involved   ShippededonWeekday   \n",
       "2                 Yes Weekend involved   ShippededonWeekday   \n",
       "3                  No weekend involved   ShippededonWeekday   \n",
       "4                  No weekend involved   ShippededonWeekday   \n",
       "\n",
       "  ordered_on_weekends  shipping_dt_weekday  order_dt_weekday  \\\n",
       "0    OrderedonWeekday                    5                 2   \n",
       "1    OrderedonWeekend                    3                 5   \n",
       "2    OrderedonWeekend                    2                 5   \n",
       "3    OrderedonWeekend                    1                 5   \n",
       "4    OrderedonWeekend                    0                 5   \n",
       "\n",
       "  shipping_dt_weekday_name order_dt_weekday_name shipping_dt_year_month  \\\n",
       "0                 Saturday             Wednesday                2018-02   \n",
       "1                 Thursday              Saturday                2018-01   \n",
       "2                Wednesday              Saturday                2018-01   \n",
       "3                  Tuesday              Saturday                2018-01   \n",
       "4                   Monday              Saturday                2018-01   \n",
       "\n",
       "  order_dt_year_month  shipping_dt_month  order_dt_month  shipping_dt_year  \\\n",
       "0             2018-01                  2               1              2018   \n",
       "1             2018-01                  1               1              2018   \n",
       "2             2018-01                  1               1              2018   \n",
       "3             2018-01                  1               1              2018   \n",
       "4             2018-01                  1               1              2018   \n",
       "\n",
       "   order_dt_year  store_country                   sc_oc  latitude  longitude  \\\n",
       "0           2018    Puerto Rico           Caguas-Bekasi     18.25     -66.04   \n",
       "1           2018    Puerto Rico          Caguas-Bikaner     18.28     -66.04   \n",
       "2           2018  United States        San Jose-Bikaner     37.29    -121.88   \n",
       "3           2018  United States  Los Angeles-Townsville     34.13    -118.29   \n",
       "4           2018    Puerto Rico       Caguas-Townsville     18.25     -66.04   \n",
       "\n",
       "   order_item_count  item_qty_sum  order_item_productprice_sum  discount_sum  \\\n",
       "0                 1             1                       327.75         13.11   \n",
       "1                 1             1                       327.75         16.39   \n",
       "2                 1             1                       327.75         18.03   \n",
       "3                 1             1                       327.75         22.94   \n",
       "4                 1             1                       327.75         29.50   \n",
       "\n",
       "   order_item_productprice_after_discount_sum  \n",
       "0                                      314.64  \n",
       "1                                      311.36  \n",
       "2                                      309.72  \n",
       "3                                      304.81  \n",
       "4                                      298.25  "
      ]
     },
     "execution_count": 7,
     "metadata": {},
     "output_type": "execute_result"
    }
   ],
   "source": [
    "df.head()"
   ]
  },
  {
   "cell_type": "code",
   "execution_count": 8,
   "metadata": {},
   "outputs": [
    {
     "data": {
      "text/html": [
       "['customer_city', 'customer_country', 'customer_email', 'customer_firstname', 'customer_id', 'customer_lastname', 'customer_password', 'customer_segment', 'customer_state', 'customer_street', 'customer_zip', 'type', 'shipping_days_actual', 'shipping_days_scheduled', 'delivery_status', 'late_delivery_risk', 'market', 'order_city', 'order_country', 'order_cust_id', 'order_date', 'order_id', 'order_region', 'order_state', 'order_zip', 'shipping_date', 'shipping_mode', 'num_days_late', 'order_status', 'store_city', 'store_state', 'gapbetween_orderandship_date', 'samecountry_source_dest', 'weekend_duringshipping', 'weekend_duringshipping_Scheduleddays', 'shipping_on_weekends', 'ordered_on_weekends', 'shipping_dt_weekday', 'order_dt_weekday', 'shipping_dt_weekday_name', 'order_dt_weekday_name', 'shipping_dt_year_month', 'order_dt_year_month', 'shipping_dt_month', 'order_dt_month', 'shipping_dt_year', 'order_dt_year', 'store_country', 'sc_oc', 'latitude', 'longitude', 'order_item_count', 'item_qty_sum', 'order_item_productprice_sum', 'discount_sum', 'order_item_productprice_after_discount_sum']"
      ],
      "text/plain": [
       "['customer_city',\n",
       " 'customer_country',\n",
       " 'customer_email',\n",
       " 'customer_firstname',\n",
       " 'customer_id',\n",
       " 'customer_lastname',\n",
       " 'customer_password',\n",
       " 'customer_segment',\n",
       " 'customer_state',\n",
       " 'customer_street',\n",
       " 'customer_zip',\n",
       " 'type',\n",
       " 'shipping_days_actual',\n",
       " 'shipping_days_scheduled',\n",
       " 'delivery_status',\n",
       " 'late_delivery_risk',\n",
       " 'market',\n",
       " 'order_city',\n",
       " 'order_country',\n",
       " 'order_cust_id',\n",
       " 'order_date',\n",
       " 'order_id',\n",
       " 'order_region',\n",
       " 'order_state',\n",
       " 'order_zip',\n",
       " 'shipping_date',\n",
       " 'shipping_mode',\n",
       " 'num_days_late',\n",
       " 'order_status',\n",
       " 'store_city',\n",
       " 'store_state',\n",
       " 'gapbetween_orderandship_date',\n",
       " 'samecountry_source_dest',\n",
       " 'weekend_duringshipping',\n",
       " 'weekend_duringshipping_Scheduleddays',\n",
       " 'shipping_on_weekends',\n",
       " 'ordered_on_weekends',\n",
       " 'shipping_dt_weekday',\n",
       " 'order_dt_weekday',\n",
       " 'shipping_dt_weekday_name',\n",
       " 'order_dt_weekday_name',\n",
       " 'shipping_dt_year_month',\n",
       " 'order_dt_year_month',\n",
       " 'shipping_dt_month',\n",
       " 'order_dt_month',\n",
       " 'shipping_dt_year',\n",
       " 'order_dt_year',\n",
       " 'store_country',\n",
       " 'sc_oc',\n",
       " 'latitude',\n",
       " 'longitude',\n",
       " 'order_item_count',\n",
       " 'item_qty_sum',\n",
       " 'order_item_productprice_sum',\n",
       " 'discount_sum',\n",
       " 'order_item_productprice_after_discount_sum']"
      ]
     },
     "execution_count": 8,
     "metadata": {},
     "output_type": "execute_result"
    }
   ],
   "source": [
    "df.columns.tolist()"
   ]
  },
  {
   "cell_type": "code",
   "execution_count": 9,
   "metadata": {},
   "outputs": [],
   "source": [
    "#df['unique_id'] = df['order_id'].map(str)+'-'+df['order_item_id'].map(str)"
   ]
  },
  {
   "cell_type": "markdown",
   "metadata": {},
   "source": [
    "## <a id='4'>4.Data Type Conversion</a>\n",
    "<a href='#0'>Go to top </a>"
   ]
  },
  {
   "cell_type": "code",
   "execution_count": 10,
   "metadata": {},
   "outputs": [],
   "source": [
    "# Converting String columns with date values to Date data type\n",
    "\n",
    "#df['DOB'] = pd.to_datetime(df['DOB'],errors = 'coerce') \n",
    "df['order_date'] = pd.to_datetime(df['order_date'])\n",
    "df['shipping_date'] = pd.to_datetime(df['shipping_date'])\n"
   ]
  },
  {
   "cell_type": "markdown",
   "metadata": {},
   "source": [
    "### <a id='4.1'>4.1 Adding Additional Columns </a>\n",
    "<a href='#0'>Go to top </a>"
   ]
  },
  {
   "cell_type": "code",
   "execution_count": 11,
   "metadata": {},
   "outputs": [],
   "source": [
    "#Adding Target Variable. Reducing from multi classification problem to binary classfication\n",
    "\n",
    "df['late_delivery'] = np.where(df['delivery_status']=='Late delivery',1,0)\n",
    "\n",
    "#df['sc_oc'] = df['store_city']+\"-\"+df['order_city']"
   ]
  },
  {
   "cell_type": "code",
   "execution_count": 12,
   "metadata": {},
   "outputs": [],
   "source": [
    "#df['order_dt_year_month'] = pd.to_datetime(df['order_date']).dt.strftime('%Y-%m')\n",
    "#df['shipping_dt_year_month'] = pd.to_datetime(df['shipping_date']).dt.strftime('%Y-%m')\n",
    "\n",
    "#df['order_dt_month'] = df['order_date'].dt.month\n",
    "#df['order_dt_weekday']=df['order_date'].dt.weekday\n",
    "\n",
    "#df['shipping_dt_weekday']=df['shipping_date'].dt.weekday\n",
    "#df['shipping_dt_month'] = df['shipping_date'].dt.month\n",
    "\n",
    "#df['late_delivery'] = np.where(df['delivery_status']=='Late delivery',1,0)\n",
    "\n",
    "#df['store_state'].fillna(df['customer_state'], inplace=True)\n",
    "#df['store_city'].fillna(df['customer_city'], inplace=True)\n",
    "#df['sc_oc'] = df['store_city']+\"-\"+df['order_city']\n",
    "\n",
    "#df['store_country']= np.where(df['store_state']=='Puerto Rico','Puerto Rico','United States')\n",
    "#df['samecountry_source_dest'] = np.where(df['store_country']==df['order_country'],'SameCountry','DifferentCountry')\n",
    "\n",
    "\n",
    "#df['gapbetween_order_shipdate'] = (df['shipping_date']-df['order_date'])\n",
    "#df['gapbetween_order_shipdate']=df['gapbetween_order_shipdate']/np.timedelta64(1,'D')\n",
    "\n",
    "#df['ordered_on_weekends']= np.where(df['order_dt_weekday'].isin([5,6]),\"OrderedonWeekend\", \"OrderedonWeekday\")\n",
    "#df['shipping_on_weekends']= np.where(df['shipping_dt_weekday'].isin([5,6]),\"ShippedonWeekend\", \"ShippededonWeekday\")\n",
    "\n",
    "\n",
    "#df['weekend_duringshipping']=np.where(((df['shipping_on_weekends']=='ShippedonWeekend')|((df['shipping_dt_weekday']+df['shipping_days_scheduled']-1)>=5)),'Yes Weekend involved','No weekend involved')"
   ]
  },
  {
   "cell_type": "code",
   "execution_count": 13,
   "metadata": {},
   "outputs": [],
   "source": [
    "cols_notused = [ 'customer_email', 'customer_firstname', 'customer_id',  'customer_lastname', 'customer_password',\n",
    "                'customer_street','customer_zip', 'late_delivery_risk','order_cust_id', 'order_zip','num_days_late','delivery_status',\n",
    "                 'order_dt_year_month','shipping_dt_year_month','shipping_days_actual','latitude', 'longitude'\n",
    "               ]\n",
    "\n",
    "cols_used =    [  'order_id'\n",
    "                 ,'late_delivery' \n",
    "    \n",
    "                #Customer Attributes\n",
    "                 ,'customer_city','customer_segment'\n",
    "                #,'sc_oc'\n",
    "                #,'samecountry_source_dest'\n",
    "                #,'weekend_duringshipping_Scheduleddays'\n",
    "               \n",
    "                ,'ordered_on_weekends','shipping_on_weekends'\n",
    "                 # Not using these columns as they have very less imprtance ,'customer_country', 'customer_segment', 'customer_state'  \n",
    "    \n",
    "                 ,'type',  'shipping_days_scheduled',  'market', 'shipping_mode'\n",
    "                 #,'order_city' ,'store_city'\n",
    "               # ,'order_status','order_dt_month','shipping_dt_month'\n",
    "                ,'shipping_dt_weekday','order_dt_weekday'\n",
    "                # Not suing these columns as they have very less imprtance ,'order_country',  'order_region', 'order_state'\n",
    "                 \n",
    "                ##### Increasing the accuracy to 99%\n",
    "               # ,'gapbetween_orderandship_date'\n",
    "                \n",
    "                \n",
    "]\n",
    "                \n"
   ]
  },
  {
   "cell_type": "code",
   "execution_count": 14,
   "metadata": {},
   "outputs": [],
   "source": [
    "#Adding Target Variable. Reducing from multi classification problem to binary classfication\n",
    "df_ModelDataSet =df[cols_used]"
   ]
  },
  {
   "cell_type": "code",
   "execution_count": 15,
   "metadata": {},
   "outputs": [
    {
     "data": {
      "text/plain": [
       "(65752, 12)"
      ]
     },
     "execution_count": 15,
     "metadata": {},
     "output_type": "execute_result"
    }
   ],
   "source": [
    "df_ModelDataSet.shape"
   ]
  },
  {
   "cell_type": "code",
   "execution_count": 16,
   "metadata": {},
   "outputs": [],
   "source": [
    "# Converting String columns with categorical values to Categorical data type\n",
    "\n",
    "#df['type'] = df['type'].astype('object')\n",
    "\n",
    "# LoyaltyCustomerFlag is converted to category data type later in the process\n",
    "#df['LoyaltyCustomerFlag'] = df['LoyaltyCustomerFlag'].astype('category')   \n",
    "\n",
    "# Converting Float columns with ID values to Object data type\n",
    "#df['customer_id'] = df['customer_id'].astype('object')\n",
    "#df['dept_id'] = df['dept_id'].astype('object')\n",
    "#df['order_cust_id'] = df['order_cust_id'].astype('object')\n",
    "#df['order_id'] = df['order_id'].astype('object')\n",
    "#df['order_item_cardprod_id'] = df['order_item_cardprod_id'].astype('object')\n",
    "#df['order_item_id'] = df['order_item_id'].astype('object')"
   ]
  },
  {
   "cell_type": "markdown",
   "metadata": {},
   "source": [
    "# <a id='5'> 5.Creating DFTrain, DFVal and DFTest </a>\n",
    "#### <a href='#0'>Go To TOp</a>"
   ]
  },
  {
   "cell_type": "markdown",
   "metadata": {},
   "source": [
    "#### Dataset Balancing"
   ]
  },
  {
   "cell_type": "code",
   "execution_count": 17,
   "metadata": {},
   "outputs": [],
   "source": [
    "#***********************************************************************\n",
    "#*********** Has to be executed if the dataset has to be balanced ******\n",
    "#***********************************************************************\n",
    "\n",
    "#df1 = df_ModelDataSet[df_ModelDataSet['AttritionFlag'] == 0]\n",
    "#df1 = pd.concat((df1,df_ModelDataSet[df_ModelDataSet['AttritionFlag'] == 1].sample(842089,replace = False)),axis = 0)\n",
    "#df_ModelDataSet = df1.copy()\n",
    "#df_ModelDataSet.shape"
   ]
  },
  {
   "cell_type": "code",
   "execution_count": 18,
   "metadata": {},
   "outputs": [],
   "source": [
    "#Creating a Random Variable to divide the dataset into Train,Val and Test\n",
    "\n",
    "#df_ModelDataSet['Random'] = np.random.randn(len(df_ModelDataSet['unique_id']), 1)\n",
    "\n",
    "#Creating TrainVal dataset\n",
    "\n",
    "#DFTrainval = df_ModelDataSet[df_ModelDataSet['Random']<0.8]\n",
    "\n",
    "#Creating Train dataset from TrainVal \n",
    "\n",
    "#DFTrain = DFTrainval[DFTrainval['Random']<0.6]\n",
    "\n",
    "#Creating Val dataset from TrainVal \n",
    "\n",
    "#DFVal = DFTrainval[~(DFTrainval['Random']<0.6)]\n",
    "\n",
    "#Creating Test dataset from TrainVal \n",
    "\n",
    "#DFTest = df_ModelDataSet[~(df_ModelDataSet['Random']<0.8)]"
   ]
  },
  {
   "cell_type": "code",
   "execution_count": 19,
   "metadata": {},
   "outputs": [
    {
     "data": {
      "text/plain": [
       "1    36048\n",
       "0    29704\n",
       "Name: late_delivery, dtype: int64"
      ]
     },
     "execution_count": 19,
     "metadata": {},
     "output_type": "execute_result"
    }
   ],
   "source": [
    "df_ModelDataSet['late_delivery'].value_counts()"
   ]
  },
  {
   "cell_type": "code",
   "execution_count": 20,
   "metadata": {},
   "outputs": [
    {
     "data": {
      "text/plain": [
       "order_id                    int64\n",
       "late_delivery               int32\n",
       "customer_city              object\n",
       "customer_segment           object\n",
       "ordered_on_weekends        object\n",
       "shipping_on_weekends       object\n",
       "type                       object\n",
       "shipping_days_scheduled     int64\n",
       "market                     object\n",
       "shipping_mode              object\n",
       "shipping_dt_weekday         int64\n",
       "order_dt_weekday            int64\n",
       "dtype: object"
      ]
     },
     "execution_count": 20,
     "metadata": {},
     "output_type": "execute_result"
    }
   ],
   "source": [
    "df_ModelDataSet.dtypes"
   ]
  },
  {
   "cell_type": "code",
   "execution_count": 21,
   "metadata": {
    "scrolled": true
   },
   "outputs": [
    {
     "data": {
      "text/html": [
       "<div>\n",
       "<style scoped>\n",
       "    .dataframe tbody tr th:only-of-type {\n",
       "        vertical-align: middle;\n",
       "    }\n",
       "\n",
       "    .dataframe tbody tr th {\n",
       "        vertical-align: top;\n",
       "    }\n",
       "\n",
       "    .dataframe thead th {\n",
       "        text-align: right;\n",
       "    }\n",
       "</style>\n",
       "<table border=\"1\" class=\"dataframe\">\n",
       "  <thead>\n",
       "    <tr style=\"text-align: right;\">\n",
       "      <th></th>\n",
       "      <th>order_id</th>\n",
       "      <th>late_delivery</th>\n",
       "      <th>customer_city</th>\n",
       "      <th>customer_segment</th>\n",
       "      <th>ordered_on_weekends</th>\n",
       "      <th>shipping_on_weekends</th>\n",
       "      <th>type</th>\n",
       "      <th>shipping_days_scheduled</th>\n",
       "      <th>market</th>\n",
       "      <th>shipping_mode</th>\n",
       "      <th>shipping_dt_weekday</th>\n",
       "      <th>order_dt_weekday</th>\n",
       "    </tr>\n",
       "  </thead>\n",
       "  <tbody>\n",
       "    <tr>\n",
       "      <td>0</td>\n",
       "      <td>77202</td>\n",
       "      <td>0</td>\n",
       "      <td>Caguas</td>\n",
       "      <td>Consumer</td>\n",
       "      <td>OrderedonWeekday</td>\n",
       "      <td>ShippedonWeekend</td>\n",
       "      <td>DEBIT</td>\n",
       "      <td>4</td>\n",
       "      <td>Pacific Asia</td>\n",
       "      <td>Standard Class</td>\n",
       "      <td>5</td>\n",
       "      <td>2</td>\n",
       "    </tr>\n",
       "    <tr>\n",
       "      <td>1</td>\n",
       "      <td>75939</td>\n",
       "      <td>1</td>\n",
       "      <td>Caguas</td>\n",
       "      <td>Consumer</td>\n",
       "      <td>OrderedonWeekend</td>\n",
       "      <td>ShippededonWeekday</td>\n",
       "      <td>TRANSFER</td>\n",
       "      <td>4</td>\n",
       "      <td>Pacific Asia</td>\n",
       "      <td>Standard Class</td>\n",
       "      <td>3</td>\n",
       "      <td>5</td>\n",
       "    </tr>\n",
       "    <tr>\n",
       "      <td>2</td>\n",
       "      <td>75938</td>\n",
       "      <td>0</td>\n",
       "      <td>San Jose</td>\n",
       "      <td>Consumer</td>\n",
       "      <td>OrderedonWeekend</td>\n",
       "      <td>ShippededonWeekday</td>\n",
       "      <td>CASH</td>\n",
       "      <td>4</td>\n",
       "      <td>Pacific Asia</td>\n",
       "      <td>Standard Class</td>\n",
       "      <td>2</td>\n",
       "      <td>5</td>\n",
       "    </tr>\n",
       "    <tr>\n",
       "      <td>3</td>\n",
       "      <td>75937</td>\n",
       "      <td>0</td>\n",
       "      <td>Los Angeles</td>\n",
       "      <td>Home Office</td>\n",
       "      <td>OrderedonWeekend</td>\n",
       "      <td>ShippededonWeekday</td>\n",
       "      <td>DEBIT</td>\n",
       "      <td>4</td>\n",
       "      <td>Pacific Asia</td>\n",
       "      <td>Standard Class</td>\n",
       "      <td>1</td>\n",
       "      <td>5</td>\n",
       "    </tr>\n",
       "    <tr>\n",
       "      <td>4</td>\n",
       "      <td>75936</td>\n",
       "      <td>0</td>\n",
       "      <td>Caguas</td>\n",
       "      <td>Corporate</td>\n",
       "      <td>OrderedonWeekend</td>\n",
       "      <td>ShippededonWeekday</td>\n",
       "      <td>PAYMENT</td>\n",
       "      <td>4</td>\n",
       "      <td>Pacific Asia</td>\n",
       "      <td>Standard Class</td>\n",
       "      <td>0</td>\n",
       "      <td>5</td>\n",
       "    </tr>\n",
       "  </tbody>\n",
       "</table>\n",
       "</div>"
      ],
      "text/plain": [
       "   order_id  late_delivery customer_city customer_segment ordered_on_weekends  \\\n",
       "0     77202              0        Caguas         Consumer    OrderedonWeekday   \n",
       "1     75939              1        Caguas         Consumer    OrderedonWeekend   \n",
       "2     75938              0      San Jose         Consumer    OrderedonWeekend   \n",
       "3     75937              0   Los Angeles      Home Office    OrderedonWeekend   \n",
       "4     75936              0        Caguas        Corporate    OrderedonWeekend   \n",
       "\n",
       "  shipping_on_weekends      type  shipping_days_scheduled        market  \\\n",
       "0     ShippedonWeekend     DEBIT                        4  Pacific Asia   \n",
       "1   ShippededonWeekday  TRANSFER                        4  Pacific Asia   \n",
       "2   ShippededonWeekday      CASH                        4  Pacific Asia   \n",
       "3   ShippededonWeekday     DEBIT                        4  Pacific Asia   \n",
       "4   ShippededonWeekday   PAYMENT                        4  Pacific Asia   \n",
       "\n",
       "    shipping_mode  shipping_dt_weekday  order_dt_weekday  \n",
       "0  Standard Class                    5                 2  \n",
       "1  Standard Class                    3                 5  \n",
       "2  Standard Class                    2                 5  \n",
       "3  Standard Class                    1                 5  \n",
       "4  Standard Class                    0                 5  "
      ]
     },
     "execution_count": 21,
     "metadata": {},
     "output_type": "execute_result"
    }
   ],
   "source": [
    "df_ModelDataSet.head()"
   ]
  },
  {
   "cell_type": "code",
   "execution_count": 22,
   "metadata": {},
   "outputs": [
    {
     "data": {
      "text/plain": [
       "(65752, 12)"
      ]
     },
     "execution_count": 22,
     "metadata": {},
     "output_type": "execute_result"
    }
   ],
   "source": [
    "df_ModelDataSet.shape"
   ]
  },
  {
   "cell_type": "code",
   "execution_count": 23,
   "metadata": {},
   "outputs": [],
   "source": [
    "DFTrainVal = df_ModelDataSet.sample(frac =.8) "
   ]
  },
  {
   "cell_type": "code",
   "execution_count": 24,
   "metadata": {},
   "outputs": [
    {
     "data": {
      "text/plain": [
       "(52602, 12)"
      ]
     },
     "execution_count": 24,
     "metadata": {},
     "output_type": "execute_result"
    }
   ],
   "source": [
    "DFTrainVal.shape"
   ]
  },
  {
   "cell_type": "code",
   "execution_count": 25,
   "metadata": {},
   "outputs": [],
   "source": [
    "DFTrain = DFTrainVal.sample(frac =.8) "
   ]
  },
  {
   "cell_type": "code",
   "execution_count": 26,
   "metadata": {},
   "outputs": [
    {
     "data": {
      "text/plain": [
       "(42082, 12)"
      ]
     },
     "execution_count": 26,
     "metadata": {},
     "output_type": "execute_result"
    }
   ],
   "source": [
    "DFTrain.shape"
   ]
  },
  {
   "cell_type": "code",
   "execution_count": 27,
   "metadata": {},
   "outputs": [],
   "source": [
    "DFVal = DFTrainVal[(~DFTrainVal.order_id.isin(DFTrain.order_id))]"
   ]
  },
  {
   "cell_type": "code",
   "execution_count": 28,
   "metadata": {},
   "outputs": [
    {
     "data": {
      "text/plain": [
       "(10520, 12)"
      ]
     },
     "execution_count": 28,
     "metadata": {},
     "output_type": "execute_result"
    }
   ],
   "source": [
    "DFVal.shape"
   ]
  },
  {
   "cell_type": "code",
   "execution_count": 29,
   "metadata": {},
   "outputs": [],
   "source": [
    "DFTest=df_ModelDataSet[(~df_ModelDataSet.order_id.isin(DFTrainVal.order_id))]"
   ]
  },
  {
   "cell_type": "code",
   "execution_count": 30,
   "metadata": {},
   "outputs": [
    {
     "data": {
      "text/plain": [
       "(13150, 12)"
      ]
     },
     "execution_count": 30,
     "metadata": {},
     "output_type": "execute_result"
    }
   ],
   "source": [
    "DFTest.shape"
   ]
  },
  {
   "cell_type": "code",
   "execution_count": 31,
   "metadata": {
    "scrolled": true
   },
   "outputs": [
    {
     "data": {
      "text/plain": [
       "42082"
      ]
     },
     "execution_count": 31,
     "metadata": {},
     "output_type": "execute_result"
    }
   ],
   "source": [
    "len(DFTrain)"
   ]
  },
  {
   "cell_type": "code",
   "execution_count": 32,
   "metadata": {
    "scrolled": true
   },
   "outputs": [
    {
     "data": {
      "text/html": [
       "<div>\n",
       "<style scoped>\n",
       "    .dataframe tbody tr th:only-of-type {\n",
       "        vertical-align: middle;\n",
       "    }\n",
       "\n",
       "    .dataframe tbody tr th {\n",
       "        vertical-align: top;\n",
       "    }\n",
       "\n",
       "    .dataframe thead th {\n",
       "        text-align: right;\n",
       "    }\n",
       "</style>\n",
       "<table border=\"1\" class=\"dataframe\">\n",
       "  <thead>\n",
       "    <tr style=\"text-align: right;\">\n",
       "      <th></th>\n",
       "      <th>order_id</th>\n",
       "      <th>late_delivery</th>\n",
       "      <th>customer_city</th>\n",
       "      <th>customer_segment</th>\n",
       "      <th>ordered_on_weekends</th>\n",
       "      <th>shipping_on_weekends</th>\n",
       "      <th>type</th>\n",
       "      <th>shipping_days_scheduled</th>\n",
       "      <th>market</th>\n",
       "      <th>shipping_mode</th>\n",
       "      <th>shipping_dt_weekday</th>\n",
       "      <th>order_dt_weekday</th>\n",
       "    </tr>\n",
       "  </thead>\n",
       "  <tbody>\n",
       "    <tr>\n",
       "      <td>2310</td>\n",
       "      <td>32030</td>\n",
       "      <td>1</td>\n",
       "      <td>Elgin</td>\n",
       "      <td>Home Office</td>\n",
       "      <td>OrderedonWeekday</td>\n",
       "      <td>ShippededonWeekday</td>\n",
       "      <td>CASH</td>\n",
       "      <td>4</td>\n",
       "      <td>USCA</td>\n",
       "      <td>Standard Class</td>\n",
       "      <td>0</td>\n",
       "      <td>1</td>\n",
       "    </tr>\n",
       "    <tr>\n",
       "      <td>23280</td>\n",
       "      <td>69036</td>\n",
       "      <td>1</td>\n",
       "      <td>Hollywood</td>\n",
       "      <td>Consumer</td>\n",
       "      <td>OrderedonWeekday</td>\n",
       "      <td>ShippededonWeekday</td>\n",
       "      <td>DEBIT</td>\n",
       "      <td>1</td>\n",
       "      <td>Europe</td>\n",
       "      <td>First Class</td>\n",
       "      <td>4</td>\n",
       "      <td>2</td>\n",
       "    </tr>\n",
       "    <tr>\n",
       "      <td>965</td>\n",
       "      <td>22481</td>\n",
       "      <td>0</td>\n",
       "      <td>Hyattsville</td>\n",
       "      <td>Corporate</td>\n",
       "      <td>OrderedonWeekday</td>\n",
       "      <td>ShippededonWeekday</td>\n",
       "      <td>TRANSFER</td>\n",
       "      <td>4</td>\n",
       "      <td>Pacific Asia</td>\n",
       "      <td>Standard Class</td>\n",
       "      <td>4</td>\n",
       "      <td>2</td>\n",
       "    </tr>\n",
       "    <tr>\n",
       "      <td>57074</td>\n",
       "      <td>53093</td>\n",
       "      <td>1</td>\n",
       "      <td>Caguas</td>\n",
       "      <td>Consumer</td>\n",
       "      <td>OrderedonWeekday</td>\n",
       "      <td>ShippededonWeekday</td>\n",
       "      <td>CASH</td>\n",
       "      <td>1</td>\n",
       "      <td>LATAM</td>\n",
       "      <td>First Class</td>\n",
       "      <td>3</td>\n",
       "      <td>1</td>\n",
       "    </tr>\n",
       "    <tr>\n",
       "      <td>2977</td>\n",
       "      <td>24088</td>\n",
       "      <td>1</td>\n",
       "      <td>Vega Baja</td>\n",
       "      <td>Consumer</td>\n",
       "      <td>OrderedonWeekday</td>\n",
       "      <td>ShippededonWeekday</td>\n",
       "      <td>DEBIT</td>\n",
       "      <td>2</td>\n",
       "      <td>Pacific Asia</td>\n",
       "      <td>Second Class</td>\n",
       "      <td>1</td>\n",
       "      <td>4</td>\n",
       "    </tr>\n",
       "  </tbody>\n",
       "</table>\n",
       "</div>"
      ],
      "text/plain": [
       "       order_id  late_delivery customer_city customer_segment  \\\n",
       "2310      32030              1         Elgin      Home Office   \n",
       "23280     69036              1     Hollywood         Consumer   \n",
       "965       22481              0   Hyattsville        Corporate   \n",
       "57074     53093              1        Caguas         Consumer   \n",
       "2977      24088              1     Vega Baja         Consumer   \n",
       "\n",
       "      ordered_on_weekends shipping_on_weekends      type  \\\n",
       "2310     OrderedonWeekday   ShippededonWeekday      CASH   \n",
       "23280    OrderedonWeekday   ShippededonWeekday     DEBIT   \n",
       "965      OrderedonWeekday   ShippededonWeekday  TRANSFER   \n",
       "57074    OrderedonWeekday   ShippededonWeekday      CASH   \n",
       "2977     OrderedonWeekday   ShippededonWeekday     DEBIT   \n",
       "\n",
       "       shipping_days_scheduled        market   shipping_mode  \\\n",
       "2310                         4          USCA  Standard Class   \n",
       "23280                        1        Europe     First Class   \n",
       "965                          4  Pacific Asia  Standard Class   \n",
       "57074                        1         LATAM     First Class   \n",
       "2977                         2  Pacific Asia    Second Class   \n",
       "\n",
       "       shipping_dt_weekday  order_dt_weekday  \n",
       "2310                     0                 1  \n",
       "23280                    4                 2  \n",
       "965                      4                 2  \n",
       "57074                    3                 1  \n",
       "2977                     1                 4  "
      ]
     },
     "execution_count": 32,
     "metadata": {},
     "output_type": "execute_result"
    }
   ],
   "source": [
    "DFTrain.head()"
   ]
  },
  {
   "cell_type": "code",
   "execution_count": 33,
   "metadata": {
    "scrolled": true
   },
   "outputs": [
    {
     "data": {
      "text/plain": [
       "10520"
      ]
     },
     "execution_count": 33,
     "metadata": {},
     "output_type": "execute_result"
    }
   ],
   "source": [
    "len(DFVal)"
   ]
  },
  {
   "cell_type": "code",
   "execution_count": 34,
   "metadata": {
    "scrolled": true
   },
   "outputs": [
    {
     "data": {
      "text/html": [
       "<div>\n",
       "<style scoped>\n",
       "    .dataframe tbody tr th:only-of-type {\n",
       "        vertical-align: middle;\n",
       "    }\n",
       "\n",
       "    .dataframe tbody tr th {\n",
       "        vertical-align: top;\n",
       "    }\n",
       "\n",
       "    .dataframe thead th {\n",
       "        text-align: right;\n",
       "    }\n",
       "</style>\n",
       "<table border=\"1\" class=\"dataframe\">\n",
       "  <thead>\n",
       "    <tr style=\"text-align: right;\">\n",
       "      <th></th>\n",
       "      <th>order_id</th>\n",
       "      <th>late_delivery</th>\n",
       "      <th>customer_city</th>\n",
       "      <th>customer_segment</th>\n",
       "      <th>ordered_on_weekends</th>\n",
       "      <th>shipping_on_weekends</th>\n",
       "      <th>type</th>\n",
       "      <th>shipping_days_scheduled</th>\n",
       "      <th>market</th>\n",
       "      <th>shipping_mode</th>\n",
       "      <th>shipping_dt_weekday</th>\n",
       "      <th>order_dt_weekday</th>\n",
       "    </tr>\n",
       "  </thead>\n",
       "  <tbody>\n",
       "    <tr>\n",
       "      <td>61312</td>\n",
       "      <td>5119</td>\n",
       "      <td>1</td>\n",
       "      <td>Caguas</td>\n",
       "      <td>Consumer</td>\n",
       "      <td>OrderedonWeekday</td>\n",
       "      <td>ShippedonWeekend</td>\n",
       "      <td>TRANSFER</td>\n",
       "      <td>4</td>\n",
       "      <td>LATAM</td>\n",
       "      <td>Standard Class</td>\n",
       "      <td>5</td>\n",
       "      <td>0</td>\n",
       "    </tr>\n",
       "    <tr>\n",
       "      <td>39241</td>\n",
       "      <td>34891</td>\n",
       "      <td>0</td>\n",
       "      <td>Wheeling</td>\n",
       "      <td>Home Office</td>\n",
       "      <td>OrderedonWeekday</td>\n",
       "      <td>ShippededonWeekday</td>\n",
       "      <td>DEBIT</td>\n",
       "      <td>2</td>\n",
       "      <td>USCA</td>\n",
       "      <td>Second Class</td>\n",
       "      <td>3</td>\n",
       "      <td>1</td>\n",
       "    </tr>\n",
       "    <tr>\n",
       "      <td>5329</td>\n",
       "      <td>45185</td>\n",
       "      <td>1</td>\n",
       "      <td>Caguas</td>\n",
       "      <td>Consumer</td>\n",
       "      <td>OrderedonWeekday</td>\n",
       "      <td>ShippededonWeekday</td>\n",
       "      <td>DEBIT</td>\n",
       "      <td>2</td>\n",
       "      <td>Pacific Asia</td>\n",
       "      <td>Second Class</td>\n",
       "      <td>3</td>\n",
       "      <td>4</td>\n",
       "    </tr>\n",
       "    <tr>\n",
       "      <td>38131</td>\n",
       "      <td>2221</td>\n",
       "      <td>0</td>\n",
       "      <td>Caguas</td>\n",
       "      <td>Corporate</td>\n",
       "      <td>OrderedonWeekday</td>\n",
       "      <td>ShippededonWeekday</td>\n",
       "      <td>PAYMENT</td>\n",
       "      <td>4</td>\n",
       "      <td>LATAM</td>\n",
       "      <td>Standard Class</td>\n",
       "      <td>2</td>\n",
       "      <td>0</td>\n",
       "    </tr>\n",
       "    <tr>\n",
       "      <td>9882</td>\n",
       "      <td>13310</td>\n",
       "      <td>1</td>\n",
       "      <td>Honolulu</td>\n",
       "      <td>Consumer</td>\n",
       "      <td>OrderedonWeekday</td>\n",
       "      <td>ShippededonWeekday</td>\n",
       "      <td>TRANSFER</td>\n",
       "      <td>4</td>\n",
       "      <td>Europe</td>\n",
       "      <td>Standard Class</td>\n",
       "      <td>0</td>\n",
       "      <td>1</td>\n",
       "    </tr>\n",
       "  </tbody>\n",
       "</table>\n",
       "</div>"
      ],
      "text/plain": [
       "       order_id  late_delivery customer_city customer_segment  \\\n",
       "61312      5119              1        Caguas         Consumer   \n",
       "39241     34891              0      Wheeling      Home Office   \n",
       "5329      45185              1        Caguas         Consumer   \n",
       "38131      2221              0        Caguas        Corporate   \n",
       "9882      13310              1      Honolulu         Consumer   \n",
       "\n",
       "      ordered_on_weekends shipping_on_weekends      type  \\\n",
       "61312    OrderedonWeekday     ShippedonWeekend  TRANSFER   \n",
       "39241    OrderedonWeekday   ShippededonWeekday     DEBIT   \n",
       "5329     OrderedonWeekday   ShippededonWeekday     DEBIT   \n",
       "38131    OrderedonWeekday   ShippededonWeekday   PAYMENT   \n",
       "9882     OrderedonWeekday   ShippededonWeekday  TRANSFER   \n",
       "\n",
       "       shipping_days_scheduled        market   shipping_mode  \\\n",
       "61312                        4         LATAM  Standard Class   \n",
       "39241                        2          USCA    Second Class   \n",
       "5329                         2  Pacific Asia    Second Class   \n",
       "38131                        4         LATAM  Standard Class   \n",
       "9882                         4        Europe  Standard Class   \n",
       "\n",
       "       shipping_dt_weekday  order_dt_weekday  \n",
       "61312                    5                 0  \n",
       "39241                    3                 1  \n",
       "5329                     3                 4  \n",
       "38131                    2                 0  \n",
       "9882                     0                 1  "
      ]
     },
     "execution_count": 34,
     "metadata": {},
     "output_type": "execute_result"
    }
   ],
   "source": [
    "DFVal.head()"
   ]
  },
  {
   "cell_type": "code",
   "execution_count": 35,
   "metadata": {},
   "outputs": [
    {
     "data": {
      "text/plain": [
       "13150"
      ]
     },
     "execution_count": 35,
     "metadata": {},
     "output_type": "execute_result"
    }
   ],
   "source": [
    "len(DFTest)"
   ]
  },
  {
   "cell_type": "code",
   "execution_count": 36,
   "metadata": {},
   "outputs": [
    {
     "data": {
      "text/html": [
       "<div>\n",
       "<style scoped>\n",
       "    .dataframe tbody tr th:only-of-type {\n",
       "        vertical-align: middle;\n",
       "    }\n",
       "\n",
       "    .dataframe tbody tr th {\n",
       "        vertical-align: top;\n",
       "    }\n",
       "\n",
       "    .dataframe thead th {\n",
       "        text-align: right;\n",
       "    }\n",
       "</style>\n",
       "<table border=\"1\" class=\"dataframe\">\n",
       "  <thead>\n",
       "    <tr style=\"text-align: right;\">\n",
       "      <th></th>\n",
       "      <th>order_id</th>\n",
       "      <th>late_delivery</th>\n",
       "      <th>customer_city</th>\n",
       "      <th>customer_segment</th>\n",
       "      <th>ordered_on_weekends</th>\n",
       "      <th>shipping_on_weekends</th>\n",
       "      <th>type</th>\n",
       "      <th>shipping_days_scheduled</th>\n",
       "      <th>market</th>\n",
       "      <th>shipping_mode</th>\n",
       "      <th>shipping_dt_weekday</th>\n",
       "      <th>order_dt_weekday</th>\n",
       "    </tr>\n",
       "  </thead>\n",
       "  <tbody>\n",
       "    <tr>\n",
       "      <td>9</td>\n",
       "      <td>75931</td>\n",
       "      <td>1</td>\n",
       "      <td>San Ramon</td>\n",
       "      <td>Corporate</td>\n",
       "      <td>OrderedonWeekend</td>\n",
       "      <td>ShippededonWeekday</td>\n",
       "      <td>CASH</td>\n",
       "      <td>1</td>\n",
       "      <td>Pacific Asia</td>\n",
       "      <td>First Class</td>\n",
       "      <td>0</td>\n",
       "      <td>5</td>\n",
       "    </tr>\n",
       "    <tr>\n",
       "      <td>13</td>\n",
       "      <td>75927</td>\n",
       "      <td>1</td>\n",
       "      <td>Caguas</td>\n",
       "      <td>Corporate</td>\n",
       "      <td>OrderedonWeekend</td>\n",
       "      <td>ShippededonWeekday</td>\n",
       "      <td>DEBIT</td>\n",
       "      <td>1</td>\n",
       "      <td>Pacific Asia</td>\n",
       "      <td>First Class</td>\n",
       "      <td>0</td>\n",
       "      <td>5</td>\n",
       "    </tr>\n",
       "    <tr>\n",
       "      <td>20</td>\n",
       "      <td>75920</td>\n",
       "      <td>0</td>\n",
       "      <td>Long Beach</td>\n",
       "      <td>Corporate</td>\n",
       "      <td>OrderedonWeekend</td>\n",
       "      <td>ShippedonWeekend</td>\n",
       "      <td>TRANSFER</td>\n",
       "      <td>0</td>\n",
       "      <td>Pacific Asia</td>\n",
       "      <td>Same Day</td>\n",
       "      <td>5</td>\n",
       "      <td>5</td>\n",
       "    </tr>\n",
       "    <tr>\n",
       "      <td>23</td>\n",
       "      <td>75917</td>\n",
       "      <td>0</td>\n",
       "      <td>Caguas</td>\n",
       "      <td>Corporate</td>\n",
       "      <td>OrderedonWeekend</td>\n",
       "      <td>ShippededonWeekday</td>\n",
       "      <td>TRANSFER</td>\n",
       "      <td>2</td>\n",
       "      <td>Pacific Asia</td>\n",
       "      <td>Second Class</td>\n",
       "      <td>1</td>\n",
       "      <td>5</td>\n",
       "    </tr>\n",
       "    <tr>\n",
       "      <td>28</td>\n",
       "      <td>75912</td>\n",
       "      <td>0</td>\n",
       "      <td>Roseville</td>\n",
       "      <td>Corporate</td>\n",
       "      <td>OrderedonWeekend</td>\n",
       "      <td>ShippededonWeekday</td>\n",
       "      <td>DEBIT</td>\n",
       "      <td>4</td>\n",
       "      <td>Pacific Asia</td>\n",
       "      <td>Standard Class</td>\n",
       "      <td>1</td>\n",
       "      <td>5</td>\n",
       "    </tr>\n",
       "  </tbody>\n",
       "</table>\n",
       "</div>"
      ],
      "text/plain": [
       "    order_id  late_delivery customer_city customer_segment  \\\n",
       "9      75931              1     San Ramon        Corporate   \n",
       "13     75927              1        Caguas        Corporate   \n",
       "20     75920              0    Long Beach        Corporate   \n",
       "23     75917              0        Caguas        Corporate   \n",
       "28     75912              0     Roseville        Corporate   \n",
       "\n",
       "   ordered_on_weekends shipping_on_weekends      type  \\\n",
       "9     OrderedonWeekend   ShippededonWeekday      CASH   \n",
       "13    OrderedonWeekend   ShippededonWeekday     DEBIT   \n",
       "20    OrderedonWeekend     ShippedonWeekend  TRANSFER   \n",
       "23    OrderedonWeekend   ShippededonWeekday  TRANSFER   \n",
       "28    OrderedonWeekend   ShippededonWeekday     DEBIT   \n",
       "\n",
       "    shipping_days_scheduled        market   shipping_mode  \\\n",
       "9                         1  Pacific Asia     First Class   \n",
       "13                        1  Pacific Asia     First Class   \n",
       "20                        0  Pacific Asia        Same Day   \n",
       "23                        2  Pacific Asia    Second Class   \n",
       "28                        4  Pacific Asia  Standard Class   \n",
       "\n",
       "    shipping_dt_weekday  order_dt_weekday  \n",
       "9                     0                 5  \n",
       "13                    0                 5  \n",
       "20                    5                 5  \n",
       "23                    1                 5  \n",
       "28                    1                 5  "
      ]
     },
     "execution_count": 36,
     "metadata": {},
     "output_type": "execute_result"
    }
   ],
   "source": [
    "DFTest.head()"
   ]
  },
  {
   "cell_type": "markdown",
   "metadata": {},
   "source": [
    "# <a id='6'> 6. Columns Selector </a>\n",
    "#### <a href='#0'>Go To TOp</a>"
   ]
  },
  {
   "cell_type": "code",
   "execution_count": 37,
   "metadata": {},
   "outputs": [],
   "source": [
    "#Defining id_col, target_col and Shirtsize_cols\n",
    "\n",
    "id_col = 'order_id'\n",
    "target_col = 'late_delivery'\n",
    "\n",
    "               \n",
    "#shirtsize_cols = [#'order_item_qty' ,'total_product_price', 'discounted_total_product_price'\n",
    "                 # ,\"Diamondback Boys' Insight 24 Performance Hybr\", 'GoPro HERO3+ Black Edition Camera', 'Ogio Race Golf Shoes'\n",
    "                 #,'Pelican Maverick 100X Kayak', 'SOLE E25 Elliptical', 'Team Golf St. Louis Cardinals Putter Grip'\n",
    "                 #,'Titleist Club Glove Travel Cover', 'Titleist Small Wheeled Travel Cover', 'Total Gym 1400', 'other_prods'\n",
    "                # ,'Accessories', 'As Seen on  TV!', 'Cameras ','Fitness Accessories', 'Golf Bags & Carts', 'Lacrosse'\n",
    "                 #,'Music','Pet Supplies','Strength Training', 'other_cats'\n",
    "#                 ]\n"
   ]
  },
  {
   "cell_type": "code",
   "execution_count": 38,
   "metadata": {},
   "outputs": [],
   "source": [
    "#Custom Transformer that extracts columns passed as argument to its constructor \n",
    "\n",
    "class FeatureSelector( BaseEstimator, TransformerMixin ):\n",
    "    #Class Constructor \n",
    "    def __init__( self, feature_names ):\n",
    "        self._feature_names = feature_names \n",
    "    \n",
    "    #Return self nothing else to do here    \n",
    "    def fit( self, X, y = None ):\n",
    "        return self \n",
    "    \n",
    "    #Method that describes what we need this transformer to do\n",
    "    def transform( self, X, y = None ):\n",
    "        return X[ self._feature_names ] "
   ]
  },
  {
   "cell_type": "markdown",
   "metadata": {},
   "source": [
    "# <a id='6-1'> 6.1 Custom Transformer Shirt Sizing </a>\n",
    "\n",
    "####  (No Need to execute 6.1 and 6.2 sections, as there are no numerical values to be convetred to categorical values )  \n",
    "#### <a href='#0'>Go To Top</a>"
   ]
  },
  {
   "cell_type": "code",
   "execution_count": 39,
   "metadata": {},
   "outputs": [],
   "source": [
    "#Funtions to create bins dynamically \n",
    "\n",
    "#cut = []\n",
    "#settings = {}\n",
    "#class DFShirtSize(BaseEstimator, TransformerMixin):\n",
    "#    def __init__(self,columns = None):\n",
    "#        self.columns = columns # array of column names to encode\n",
    "\n",
    "#    def fit(self,X,y=None):\n",
    "#        df = X.copy()\n",
    "#        if self.columns is not None:\n",
    "#            for col_name in self.columns:\n",
    "#                df[col_name] = df[col_name].fillna(0)\n",
    "#                colmin = (abs(df[col_name].min())+1)\n",
    "#                cuts = pd.cut(\n",
    "#                             np.log(colmin + df[col_name]),\n",
    "#                             bins = 4,\n",
    "#                             labels=['1_small','2_medium','3_large','4_xlarge',],\n",
    "#                             retbins = True\n",
    "#                           )[1]\n",
    "#                cuts[0], cuts[-1] = -np.inf, np.inf\n",
    "#                tempsettings = {col_name: cuts}\n",
    "#                settings.update(tempsettings)\n",
    "#    def transform(self,X):\n",
    "#        df = X.copy()\n",
    "#        for col, cuts in settings.items():\n",
    "#                #col_name_ss = col + '_ss'\n",
    "#                df[col] = df[col].fillna(0)\n",
    "#                df[col] = pd.cut(\n",
    "#                                            np.log(1 + df[col]),\n",
    "#                                            bins = cuts,\n",
    "#                                            labels=['1_small','2_medium','3_large','4_xlarge']      \n",
    "#                                        )\n",
    "#       \n",
    "#        return df\n",
    "#        \n",
    "#    def fit_transform(self,X,y=None):\n",
    "#        return self.fit(X,y).transform(X)\n",
    "#"
   ]
  },
  {
   "cell_type": "markdown",
   "metadata": {},
   "source": [
    "# <a id='6-2'>6.2 Pipeline for ShirtSizing </a>\n",
    "#### <a href='#0'>Go To Top</a>"
   ]
  },
  {
   "cell_type": "code",
   "execution_count": 40,
   "metadata": {},
   "outputs": [],
   "source": [
    "#SSEncoding = [\n",
    "#              ('Column Selector',FeatureSelector(shirtsize_cols)),\n",
    "#              ('Shirt Sizing', DFShirtSize(shirtsize_cols)),\n",
    "#             ]"
   ]
  },
  {
   "cell_type": "code",
   "execution_count": 41,
   "metadata": {},
   "outputs": [],
   "source": [
    "#pipe_sse = Pipeline(SSEncoding)"
   ]
  },
  {
   "cell_type": "code",
   "execution_count": 42,
   "metadata": {},
   "outputs": [],
   "source": [
    "#pipe_sse.fit(DFTrain)"
   ]
  },
  {
   "cell_type": "code",
   "execution_count": 43,
   "metadata": {},
   "outputs": [],
   "source": [
    "#Transforming the given dataset\n",
    "\n",
    "#DFTrain_SSE = pipe_sse.transform(DFTrain)"
   ]
  },
  {
   "cell_type": "code",
   "execution_count": 44,
   "metadata": {},
   "outputs": [],
   "source": [
    "#Transforming the given dataset\n",
    "\n",
    "#DFVal_SSE =  pipe_sse.transform(DFVal)"
   ]
  },
  {
   "cell_type": "code",
   "execution_count": 45,
   "metadata": {},
   "outputs": [],
   "source": [
    "#Transforming the given dataset\n",
    "\n",
    "#DFTest_SSE =  pipe_sse.transform(DFTest)"
   ]
  },
  {
   "cell_type": "code",
   "execution_count": 46,
   "metadata": {},
   "outputs": [],
   "source": [
    "#Assigning back shirtsized columns to actual datset\n",
    "\n",
    "#for col in shirtsize_cols:\n",
    "#    DFTrain[col] = DFTrain_SSE[col]\n",
    "#    DFVal[col] = DFVal_SSE[col]\n",
    " #   DFTest[col] = DFTest_SSE[col]"
   ]
  },
  {
   "cell_type": "code",
   "execution_count": 47,
   "metadata": {},
   "outputs": [],
   "source": [
    "#DFTrain.head()"
   ]
  },
  {
   "cell_type": "code",
   "execution_count": 48,
   "metadata": {},
   "outputs": [],
   "source": [
    "#DFVal.head()"
   ]
  },
  {
   "cell_type": "code",
   "execution_count": 49,
   "metadata": {},
   "outputs": [],
   "source": [
    "#DFTest.head()"
   ]
  },
  {
   "cell_type": "markdown",
   "metadata": {},
   "source": [
    "# <a id='6-3'> 6.3 Custom Transofmer for Mean Encoding </a>\n",
    "#### <a href='#0'>Go To Top</a>"
   ]
  },
  {
   "cell_type": "code",
   "execution_count": 50,
   "metadata": {},
   "outputs": [],
   "source": [
    "#Defining Mean Encoding columns\n",
    "\n",
    "#mean_enc_cols = DFTrain.drop(columns = [id_col,target_col,'Random']).columns.tolist()\n",
    "mean_enc_cols = DFTrain.drop(columns = [id_col,target_col]).columns.tolist()\n",
    "#mean_enc_cols"
   ]
  },
  {
   "cell_type": "code",
   "execution_count": 51,
   "metadata": {},
   "outputs": [
    {
     "data": {
      "text/plain": [
       "order_id                    int64\n",
       "late_delivery               int32\n",
       "customer_city              object\n",
       "customer_segment           object\n",
       "ordered_on_weekends        object\n",
       "shipping_on_weekends       object\n",
       "type                       object\n",
       "shipping_days_scheduled     int64\n",
       "market                     object\n",
       "shipping_mode              object\n",
       "shipping_dt_weekday         int64\n",
       "order_dt_weekday            int64\n",
       "dtype: object"
      ]
     },
     "execution_count": 51,
     "metadata": {},
     "output_type": "execute_result"
    }
   ],
   "source": [
    "DFTrain.dtypes"
   ]
  },
  {
   "cell_type": "code",
   "execution_count": 52,
   "metadata": {},
   "outputs": [],
   "source": [
    "#Converting to Mean Encoding columns to Category type\n",
    "\n",
    "for col in mean_enc_cols: \n",
    "    if col != target_col:\n",
    "        DFTrain.loc[:, col] = DFTrain.loc[:, col].astype('category') \n",
    "        DFVal.loc[:, col] = DFVal.loc[:, col].astype('category') \n",
    "        DFTest.loc[:, col]   =   DFTest.loc[:, col].astype('category')"
   ]
  },
  {
   "cell_type": "code",
   "execution_count": 53,
   "metadata": {},
   "outputs": [],
   "source": [
    "#Mean Encoding Function\n",
    "\n",
    "mean_enc_settings = {}\n",
    "alpha = 5 # (1) can be tuned as a hyper-parameter, (2) can be tuned on a column-by-column basis\n",
    "prior = 0 \n",
    "class DFMeanEncoding(BaseEstimator, TransformerMixin):\n",
    "    def __init__(self,columns = None,df_target_col = None):\n",
    "        self.columns = columns # array of column names to encode\n",
    "        self.df_target_col = df_target_col\n",
    "\n",
    "    def fit(self,X,y=None):\n",
    "        df = X.copy()\n",
    "        target_col = 'late_delivery'\n",
    "        df[target_col] = self.df_target_col\n",
    "        prior_loc = df[target_col].mean() # global mean for Train fold\n",
    "        global prior \n",
    "        prior = prior_loc\n",
    "        if self.columns is not None:\n",
    "            for col in self.columns: #iterate though the columns we want to encode\n",
    "#                 if col != target_col:\n",
    "                means     = df.groupby(col)[target_col].mean()\n",
    "                nrows_cnt = df.groupby(col)[target_col].count()\n",
    "                means_reg = (means*nrows_cnt + prior*alpha) / (nrows_cnt + alpha)\n",
    "                mean_enc_settings.update({\n",
    "                     col: means_reg.to_dict()\n",
    "                })\n",
    "        #return self # not relevant here\n",
    "        \n",
    "    def transform(self,X):\n",
    "        '''\n",
    "        Transforms columns of X specified in self.columns using\n",
    "        LabelEncoder(). If no columns specified, transforms all\n",
    "        columns in X.\n",
    "        '''\n",
    "        df = X.copy()\n",
    "        for col, means in mean_enc_settings.items(): #iterate though the columns we want to encode\n",
    "            df[col] = df[col].map(means).astype(np.float32).fillna(prior)\n",
    "        return df\n",
    "\n",
    "    def fit_transform(self,X,y=None):\n",
    "        return self.fit(X,y).transform(X)\n"
   ]
  },
  {
   "cell_type": "code",
   "execution_count": 54,
   "metadata": {},
   "outputs": [],
   "source": [
    "MeanEncoding = [\n",
    "              ('Column Selector',FeatureSelector(mean_enc_cols)),\n",
    "              ('Mean Encoding', DFMeanEncoding(mean_enc_cols,DFTrain[[target_col]])),\n",
    "             ]"
   ]
  },
  {
   "cell_type": "markdown",
   "metadata": {},
   "source": [
    "# <a id='6-4'> 6.4 Pipeline for Mean Encoding </a>\n",
    "#### <a href='#0'>Go To Top</a>"
   ]
  },
  {
   "cell_type": "code",
   "execution_count": 55,
   "metadata": {},
   "outputs": [],
   "source": [
    "pipe_me = Pipeline(MeanEncoding)"
   ]
  },
  {
   "cell_type": "code",
   "execution_count": 56,
   "metadata": {},
   "outputs": [
    {
     "data": {
      "text/plain": [
       "Pipeline(memory=None,\n",
       "         steps=[('Column Selector', FeatureSelector(feature_names=None)),\n",
       "                ('Mean Encoding',\n",
       "                 DFMeanEncoding(columns=['customer_city', 'customer_segment',\n",
       "                                         'ordered_on_weekends',\n",
       "                                         'shipping_on_weekends', 'type',\n",
       "                                         'shipping_days_scheduled', 'market',\n",
       "                                         'shipping_mode', 'shipping_dt_weekday',\n",
       "                                         'order_dt_weekday'],\n",
       "                                df_target_col=       late_delivery\n",
       "2310               1\n",
       "23280              1\n",
       "965                0\n",
       "57074              1\n",
       "2977               1\n",
       "...              ...\n",
       "12684              0\n",
       "49140              0\n",
       "34325              0\n",
       "41727              0\n",
       "22735              0\n",
       "\n",
       "[42082 rows x 1 columns]))],\n",
       "         verbose=False)"
      ]
     },
     "execution_count": 56,
     "metadata": {},
     "output_type": "execute_result"
    }
   ],
   "source": [
    "pipe_me.fit(DFTrain)"
   ]
  },
  {
   "cell_type": "code",
   "execution_count": 57,
   "metadata": {},
   "outputs": [],
   "source": [
    "#Transforming the given the dataset\n",
    "\n",
    "DFTrain_ME = pipe_me.transform(DFTrain)"
   ]
  },
  {
   "cell_type": "code",
   "execution_count": 58,
   "metadata": {},
   "outputs": [
    {
     "data": {
      "text/html": [
       "<div>\n",
       "<style scoped>\n",
       "    .dataframe tbody tr th:only-of-type {\n",
       "        vertical-align: middle;\n",
       "    }\n",
       "\n",
       "    .dataframe tbody tr th {\n",
       "        vertical-align: top;\n",
       "    }\n",
       "\n",
       "    .dataframe thead th {\n",
       "        text-align: right;\n",
       "    }\n",
       "</style>\n",
       "<table border=\"1\" class=\"dataframe\">\n",
       "  <thead>\n",
       "    <tr style=\"text-align: right;\">\n",
       "      <th></th>\n",
       "      <th>customer_city</th>\n",
       "      <th>customer_segment</th>\n",
       "      <th>ordered_on_weekends</th>\n",
       "      <th>shipping_on_weekends</th>\n",
       "      <th>type</th>\n",
       "      <th>shipping_days_scheduled</th>\n",
       "      <th>market</th>\n",
       "      <th>shipping_mode</th>\n",
       "      <th>shipping_dt_weekday</th>\n",
       "      <th>order_dt_weekday</th>\n",
       "    </tr>\n",
       "  </thead>\n",
       "  <tbody>\n",
       "    <tr>\n",
       "      <td>2310</td>\n",
       "      <td>0.61</td>\n",
       "      <td>0.55</td>\n",
       "      <td>0.55</td>\n",
       "      <td>0.55</td>\n",
       "      <td>0.57</td>\n",
       "      <td>0.38</td>\n",
       "      <td>0.55</td>\n",
       "      <td>0.38</td>\n",
       "      <td>0.55</td>\n",
       "      <td>0.55</td>\n",
       "    </tr>\n",
       "    <tr>\n",
       "      <td>23280</td>\n",
       "      <td>0.52</td>\n",
       "      <td>0.55</td>\n",
       "      <td>0.55</td>\n",
       "      <td>0.55</td>\n",
       "      <td>0.57</td>\n",
       "      <td>0.95</td>\n",
       "      <td>0.55</td>\n",
       "      <td>0.95</td>\n",
       "      <td>0.54</td>\n",
       "      <td>0.54</td>\n",
       "    </tr>\n",
       "    <tr>\n",
       "      <td>965</td>\n",
       "      <td>0.49</td>\n",
       "      <td>0.55</td>\n",
       "      <td>0.55</td>\n",
       "      <td>0.55</td>\n",
       "      <td>0.48</td>\n",
       "      <td>0.38</td>\n",
       "      <td>0.55</td>\n",
       "      <td>0.38</td>\n",
       "      <td>0.54</td>\n",
       "      <td>0.54</td>\n",
       "    </tr>\n",
       "    <tr>\n",
       "      <td>57074</td>\n",
       "      <td>0.55</td>\n",
       "      <td>0.55</td>\n",
       "      <td>0.55</td>\n",
       "      <td>0.55</td>\n",
       "      <td>0.57</td>\n",
       "      <td>0.95</td>\n",
       "      <td>0.54</td>\n",
       "      <td>0.95</td>\n",
       "      <td>0.55</td>\n",
       "      <td>0.55</td>\n",
       "    </tr>\n",
       "    <tr>\n",
       "      <td>2977</td>\n",
       "      <td>0.56</td>\n",
       "      <td>0.55</td>\n",
       "      <td>0.55</td>\n",
       "      <td>0.55</td>\n",
       "      <td>0.57</td>\n",
       "      <td>0.77</td>\n",
       "      <td>0.55</td>\n",
       "      <td>0.77</td>\n",
       "      <td>0.55</td>\n",
       "      <td>0.55</td>\n",
       "    </tr>\n",
       "  </tbody>\n",
       "</table>\n",
       "</div>"
      ],
      "text/plain": [
       "       customer_city  customer_segment  ordered_on_weekends  \\\n",
       "2310            0.61              0.55                 0.55   \n",
       "23280           0.52              0.55                 0.55   \n",
       "965             0.49              0.55                 0.55   \n",
       "57074           0.55              0.55                 0.55   \n",
       "2977            0.56              0.55                 0.55   \n",
       "\n",
       "       shipping_on_weekends  type  shipping_days_scheduled  market  \\\n",
       "2310                   0.55  0.57                     0.38    0.55   \n",
       "23280                  0.55  0.57                     0.95    0.55   \n",
       "965                    0.55  0.48                     0.38    0.55   \n",
       "57074                  0.55  0.57                     0.95    0.54   \n",
       "2977                   0.55  0.57                     0.77    0.55   \n",
       "\n",
       "       shipping_mode  shipping_dt_weekday  order_dt_weekday  \n",
       "2310            0.38                 0.55              0.55  \n",
       "23280           0.95                 0.54              0.54  \n",
       "965             0.38                 0.54              0.54  \n",
       "57074           0.95                 0.55              0.55  \n",
       "2977            0.77                 0.55              0.55  "
      ]
     },
     "execution_count": 58,
     "metadata": {},
     "output_type": "execute_result"
    }
   ],
   "source": [
    "DFTrain_ME .head()"
   ]
  },
  {
   "cell_type": "code",
   "execution_count": 59,
   "metadata": {},
   "outputs": [
    {
     "data": {
      "text/plain": [
       "customer_city              float32\n",
       "customer_segment           float32\n",
       "ordered_on_weekends        float32\n",
       "shipping_on_weekends       float32\n",
       "type                       float32\n",
       "shipping_days_scheduled    float32\n",
       "market                     float32\n",
       "shipping_mode              float32\n",
       "shipping_dt_weekday        float32\n",
       "order_dt_weekday           float32\n",
       "dtype: object"
      ]
     },
     "execution_count": 59,
     "metadata": {},
     "output_type": "execute_result"
    }
   ],
   "source": [
    "DFTrain_ME.dtypes"
   ]
  },
  {
   "cell_type": "code",
   "execution_count": 60,
   "metadata": {},
   "outputs": [],
   "source": [
    "#Transforming the given the dataset\n",
    "\n",
    "DFVal_ME = pipe_me.transform(DFVal)"
   ]
  },
  {
   "cell_type": "code",
   "execution_count": 61,
   "metadata": {},
   "outputs": [
    {
     "data": {
      "text/plain": [
       "customer_city              float32\n",
       "customer_segment           float32\n",
       "ordered_on_weekends        float32\n",
       "shipping_on_weekends       float32\n",
       "type                       float32\n",
       "shipping_days_scheduled    float32\n",
       "market                     float32\n",
       "shipping_mode              float32\n",
       "shipping_dt_weekday        float32\n",
       "order_dt_weekday           float32\n",
       "dtype: object"
      ]
     },
     "execution_count": 61,
     "metadata": {},
     "output_type": "execute_result"
    }
   ],
   "source": [
    "DFVal_ME.dtypes"
   ]
  },
  {
   "cell_type": "code",
   "execution_count": 62,
   "metadata": {},
   "outputs": [],
   "source": [
    "#Transforming the given the dataset\n",
    "\n",
    "DFTest_ME = pipe_me.transform(DFTest)"
   ]
  },
  {
   "cell_type": "code",
   "execution_count": 63,
   "metadata": {},
   "outputs": [],
   "source": [
    "#Assigning back Id Col\n",
    "\n",
    "DFTrain_ME[id_col]=DFTrain[id_col]\n",
    "DFVal_ME[id_col]=DFVal[id_col]\n",
    "\n",
    "\n",
    "DFTrain_ME[target_col]=DFTrain[target_col]\n",
    "DFVal_ME[target_col]=DFVal[target_col]\n",
    "\n",
    "DFTest_ME[id_col]=DFTest[id_col]\n",
    "DFTest_ME[target_col]=DFTest[target_col]\n",
    "\n",
    "                           "
   ]
  },
  {
   "cell_type": "code",
   "execution_count": 64,
   "metadata": {},
   "outputs": [],
   "source": [
    "#Creating a copy of Train, Val and Test\n",
    "\n",
    "df_train = DFTrain_ME.drop(columns = id_col).copy()\n",
    "df_val   =  DFVal_ME.drop(columns = id_col).copy()\n",
    "df_test =  DFTest_ME.drop(columns = id_col).copy()"
   ]
  },
  {
   "cell_type": "code",
   "execution_count": 65,
   "metadata": {},
   "outputs": [],
   "source": [
    "#Creating X and y for Train, Val and Test\n",
    "\n",
    "X_train = df_train.drop(columns = target_col)\n",
    "y_train = df_train[target_col].values\n",
    "\n",
    "X_val = df_val.drop(columns = target_col)\n",
    "y_val = df_val[target_col].values\n",
    "\n",
    "X_test = df_test.drop(columns = target_col)\n",
    "y_test = df_test[target_col].values  "
   ]
  },
  {
   "cell_type": "code",
   "execution_count": 66,
   "metadata": {},
   "outputs": [
    {
     "data": {
      "text/plain": [
       "((42082, 10), (42082,), (10520, 10), (10520,))"
      ]
     },
     "execution_count": 66,
     "metadata": {},
     "output_type": "execute_result"
    }
   ],
   "source": [
    "X_train.shape, y_train.shape, X_val.shape, y_val.shape, "
   ]
  },
  {
   "cell_type": "code",
   "execution_count": 67,
   "metadata": {},
   "outputs": [],
   "source": [
    "#sorted(X_train.columns)"
   ]
  },
  {
   "cell_type": "code",
   "execution_count": 68,
   "metadata": {},
   "outputs": [],
   "source": [
    "#y_train"
   ]
  },
  {
   "cell_type": "markdown",
   "metadata": {},
   "source": [
    "# <a id='7'> 7. ML Model Evaluation And Building ML Model </a>\n",
    "#### <a href='#0'>Go To Top</a>"
   ]
  },
  {
   "cell_type": "markdown",
   "metadata": {},
   "source": [
    "## <a id='7.1'> 7.1 ML Model Evaluation </a>\n",
    "#### <a href='#0'>Go To Top</a>"
   ]
  },
  {
   "cell_type": "code",
   "execution_count": 74,
   "metadata": {},
   "outputs": [],
   "source": [
    "models = []\n",
    "models.append((\"LR\",LogisticRegression()))\n",
    "models.append((\"NB\",GaussianNB()))\n",
    "models.append((\"RF\",RandomForestClassifier()))\n",
    "models.append((\"lgbm\",lgb.LGBMClassifier()))\n",
    "models.append((\"Dtree\",DecisionTreeClassifier()))\n",
    "models.append((\"XGB\",xgb.XGBClassifier()))\n",
    "models.append((\"KNN\",KNeighborsClassifier()))"
   ]
  },
  {
   "cell_type": "code",
   "execution_count": 75,
   "metadata": {},
   "outputs": [
    {
     "name": "stdout",
     "output_type": "stream",
     "text": [
      "LR [0.69568937 0.69930136]\n",
      "NB [0.69293285 0.69421605]\n",
      "RF [0.96373746 0.96473552]\n",
      "lgbm [0.97504871 0.97362293]\n",
      "Dtree [0.93617224 0.91288437]\n",
      "XGB [0.97324272 0.97210209]\n",
      "KNN [0.77363243 0.77173138]\n"
     ]
    }
   ],
   "source": [
    "for name,model in models:\n",
    "    kfold = KFold(n_splits=2, random_state=0)\n",
    "    cv_result = cross_val_score(model,X_train,y_train, cv = kfold,scoring = \"accuracy\")\n",
    "    print(name, cv_result)"
   ]
  },
  {
   "cell_type": "markdown",
   "metadata": {},
   "source": [
    "## <a id='7.2'> 7.2 ML Model</a>\n",
    "#### <a href='#0'>Go To Top</a>"
   ]
  },
  {
   "cell_type": "code",
   "execution_count": null,
   "metadata": {},
   "outputs": [],
   "source": [
    "# lgb_params = {\n",
    "#    'objective': 'binary',\n",
    "#    'learning_rate': 0.1, \n",
    "#    'n_estimators': 1000,\n",
    "#    'metric': ['auc', 'binary_logloss', ],\n",
    "# }\n",
    "\n",
    "lgb_params = {\n",
    "    'max_bin': 100,\n",
    "    'objective': 'binary',\n",
    "    'learning_rate': 0.01,\n",
    "    'n_estimators': 1000,\n",
    "    'boosting_type': 'gbdt',\n",
    "    'metric': ['auc', 'binary_logloss',],\n",
    "    'boost_from_average': True\n",
    "}\n",
    "\n",
    "evals_result = {}  # holder to record eval results for plotting\n",
    "\n",
    "lgb_train = lgb.Dataset(\n",
    "    X_train,\n",
    "    label = y_train, \n",
    "    free_raw_data = False,\n",
    ")\n",
    "\n",
    "#### FOR VALIDATION RUN ####\n",
    "\n",
    "lgb_val = lgb.Dataset(\n",
    "   X_val,\n",
    "   label = y_val, \n",
    "   reference = lgb_train, \n",
    "   free_raw_data = False,\n",
    ")\n",
    "\n",
    "model = lgb.train(\n",
    "    lgb_params,\n",
    "    lgb_train,\n",
    "    valid_sets = [lgb_train, lgb_val],\n",
    "    evals_result = evals_result,\n",
    "    early_stopping_rounds = 100,\n",
    "    verbose_eval = 100\n",
    ")"
   ]
  },
  {
   "cell_type": "code",
   "execution_count": null,
   "metadata": {
    "scrolled": false
   },
   "outputs": [],
   "source": [
    "for metric in lgb_params['metric']:\n",
    "    lgb.plot_metric(\n",
    "        evals_result, figsize=(10, 5), \n",
    "        metric = metric,\n",
    "        title = '{} metric during training'.format(metric),\n",
    "    )\n",
    "    plt.vlines(model.best_iteration, \n",
    "               0, 1, linestyles = 'dotted',\n",
    "               label = 'best auc iteration = {}\\nscore = {:.4f}'.format(\n",
    "                   model.best_iteration, \n",
    "                   model.best_score['valid_1'][metric]))\n",
    "    plt.legend()\n",
    "    plt.show()\n",
    "\n",
    "lgb.plot_importance(model, figsize=(30, 15), ignore_zero = False, )\n",
    "plt.title('Feature Importance - Single Model');"
   ]
  },
  {
   "cell_type": "markdown",
   "metadata": {},
   "source": [
    "# <a id='8'> 8.Predictions  </a>\n",
    "#### <a href='#0'>Go To Top</a>"
   ]
  },
  {
   "cell_type": "code",
   "execution_count": null,
   "metadata": {},
   "outputs": [],
   "source": [
    "# build a quick ROC plot for the best model\n",
    "from sklearn.metrics import roc_curve\n",
    "\n",
    "y_hat_val = model.predict(\n",
    "    X_val\n",
    ")\n",
    "fpr_grd, tpr_grd, _ = roc_curve(y_val, y_hat_val)\n",
    "\n",
    "plt.figure(figsize = (7, 7))\n",
    "plt.plot(fpr_grd, tpr_grd, label='LGBM')\n",
    "plt.xlabel('False positive rate')\n",
    "plt.ylabel('True positive rate')\n",
    "plt.title('ROC curve for model iteration ' + str(model.best_iteration))\n",
    "plt.legend(loc='best')\n",
    "plt.plot([0, 1], [0, 1], 'k--', linewidth = '0.7')\n",
    "plt.show()"
   ]
  },
  {
   "cell_type": "code",
   "execution_count": null,
   "metadata": {},
   "outputs": [],
   "source": [
    "from sklearn.metrics import roc_auc_score\n",
    "\n",
    "roc_auc_score(\n",
    "   y_val, y_hat_val\n",
    ")"
   ]
  },
  {
   "cell_type": "code",
   "execution_count": null,
   "metadata": {},
   "outputs": [],
   "source": [
    "# build a quick ROC plot for the best model\n",
    "from sklearn.metrics import roc_curve\n",
    "\n",
    "y_hat = model.predict(\n",
    "    X_test\n",
    ")\n",
    "fpr_grd, tpr_grd, _ = roc_curve(y_test, y_hat)\n",
    "\n",
    "plt.figure(figsize = (7, 7))\n",
    "plt.plot(fpr_grd, tpr_grd, label='LGBM')\n",
    "plt.xlabel('False positive rate')\n",
    "plt.ylabel('True positive rate')\n",
    "plt.title('ROC curve for model iteration ' + str(model.best_iteration))\n",
    "plt.legend(loc='best')\n",
    "plt.plot([0, 1], [0, 1], 'k--', linewidth = '0.7')\n",
    "plt.show()"
   ]
  },
  {
   "cell_type": "code",
   "execution_count": null,
   "metadata": {},
   "outputs": [],
   "source": [
    "from sklearn.metrics import roc_auc_score\n",
    "\n",
    "roc_auc_score(\n",
    "   y_test, y_hat\n",
    ")"
   ]
  },
  {
   "cell_type": "code",
   "execution_count": null,
   "metadata": {},
   "outputs": [],
   "source": [
    "#Print model report:\n",
    "from sklearn.metrics import accuracy_score, log_loss, roc_curve,f1_score,confusion_matrix"
   ]
  },
  {
   "cell_type": "code",
   "execution_count": null,
   "metadata": {},
   "outputs": [],
   "source": [
    "y_hat_round = round(pd.DataFrame(y_hat))\n",
    "print (\"\\nModel Report\")\n",
    "accuraryScore = accuracy_score(y_test, y_hat_round)\n",
    "print(\"Accuracy: {:.2%}\".format(accuraryScore))"
   ]
  },
  {
   "cell_type": "code",
   "execution_count": null,
   "metadata": {},
   "outputs": [],
   "source": [
    "# Experimenting with LogLoss\n",
    "logLoss = log_loss(y_test, y_hat)\n",
    "#print(\"Log Loss: {:.2%}\".format(logLoss))\n",
    "print(\"Log Loss: {:5.2f}\".format(logLoss))"
   ]
  },
  {
   "cell_type": "code",
   "execution_count": null,
   "metadata": {
    "scrolled": true
   },
   "outputs": [],
   "source": [
    "f1Score = f1_score(y_test, y_hat_round) # calculating f1 score\n",
    "print(\"f score : {:.2%}\".format(f1Score))\n",
    "print(\"=\"*30)"
   ]
  },
  {
   "cell_type": "code",
   "execution_count": null,
   "metadata": {},
   "outputs": [],
   "source": [
    "labels = [0, 1]\n",
    "confusion_mat = confusion_matrix(y_test, y_hat_round,labels)\n",
    "ax= plt.subplot()\n",
    "sns.heatmap(confusion_mat, annot=True, ax = ax,fmt='g',cmap=plt.cm.Blues); #annot=True to annotate cells\n",
    "# labels, title and ticks\n",
    "ax.set_xlabel('Predicted labels');ax.set_ylabel('True labels'); \n",
    "ax.set_title('Confusion Matrix'); \n",
    "ax.xaxis.set_ticklabels(['Active', 'Inactive']); ax.yaxis.set_ticklabels(['Active', 'Inactive']);ax= plt.subplot()\n",
    "plt.show()"
   ]
  },
  {
   "cell_type": "code",
   "execution_count": null,
   "metadata": {},
   "outputs": [],
   "source": [
    "confusion_mat"
   ]
  },
  {
   "cell_type": "code",
   "execution_count": null,
   "metadata": {},
   "outputs": [],
   "source": [
    "#%%time\n",
    "# # 40.1 s\n",
    "\n",
    "import shap\n",
    "\n",
    "#load JS visualization code to notebook\n",
    "shap.initjs()\n",
    "\n",
    "explainer = shap.TreeExplainer(model)\n",
    "\n",
    "print('Feature Importance ranking')\n",
    "print('Train dataset')\n",
    "shap_values_train = explainer.shap_values(\n",
    "     X_train\n",
    ")\n",
    "\n",
    "shap.summary_plot(\n",
    "     shap_values_train,     \n",
    "     X_train,\n",
    "     plot_type = \"bar\",\n",
    ")\n",
    "\n",
    "print('Test dataset')\n",
    "shap_values_test = explainer.shap_values(\n",
    "     X_test\n",
    ")\n",
    "\n",
    "shap.summary_plot(\n",
    "     shap_values_test,     \n",
    "     X_test,\n",
    "     plot_type = \"bar\",\n",
    ")"
   ]
  },
  {
   "cell_type": "markdown",
   "metadata": {},
   "source": [
    "### With few additional  Attributes (Donot execute the below block)"
   ]
  },
  {
   "cell_type": "code",
   "execution_count": null,
   "metadata": {},
   "outputs": [],
   "source": [
    "#%%time\n",
    "# # 40.1 s\n",
    "\n",
    "import shap\n",
    "\n",
    "#load JS visualization code to notebook\n",
    "shap.initjs()\n",
    "\n",
    "explainer = shap.TreeExplainer(model)\n",
    "\n",
    "print('Feature Importance ranking')\n",
    "print('Train dataset')\n",
    "shap_values_train = explainer.shap_values(\n",
    "     X_train\n",
    ")\n",
    "\n",
    "shap.summary_plot(\n",
    "     shap_values_train,     \n",
    "     X_train,\n",
    "     plot_type = \"bar\",\n",
    ")\n",
    "\n",
    "print('Test dataset')\n",
    "shap_values_test = explainer.shap_values(\n",
    "     X_test\n",
    ")\n",
    "\n",
    "shap.summary_plot(\n",
    "     shap_values_test,     \n",
    "     X_test,\n",
    "     plot_type = \"bar\",\n",
    ")"
   ]
  },
  {
   "cell_type": "code",
   "execution_count": null,
   "metadata": {},
   "outputs": [],
   "source": [
    "#Done!"
   ]
  },
  {
   "cell_type": "code",
   "execution_count": null,
   "metadata": {},
   "outputs": [],
   "source": []
  },
  {
   "cell_type": "code",
   "execution_count": null,
   "metadata": {},
   "outputs": [],
   "source": []
  }
 ],
 "metadata": {
  "kernelspec": {
   "display_name": "Python 3",
   "language": "python",
   "name": "python3"
  },
  "language_info": {
   "codemirror_mode": {
    "name": "ipython",
    "version": 3
   },
   "file_extension": ".py",
   "mimetype": "text/x-python",
   "name": "python",
   "nbconvert_exporter": "python",
   "pygments_lexer": "ipython3",
   "version": "3.7.4"
  }
 },
 "nbformat": 4,
 "nbformat_minor": 2
}
